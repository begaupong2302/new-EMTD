{
 "cells": [
  {
   "cell_type": "code",
   "execution_count": 1,
   "metadata": {},
   "outputs": [],
   "source": [
    "import pandas as pd\n",
    "import numpy as np\n",
    "from itertools import combinations, product"
   ]
  },
  {
   "cell_type": "code",
   "execution_count": 2,
   "metadata": {},
   "outputs": [
    {
     "data": {
      "text/html": [
       "<div>\n",
       "<style scoped>\n",
       "    .dataframe tbody tr th:only-of-type {\n",
       "        vertical-align: middle;\n",
       "    }\n",
       "\n",
       "    .dataframe tbody tr th {\n",
       "        vertical-align: top;\n",
       "    }\n",
       "\n",
       "    .dataframe thead th {\n",
       "        text-align: right;\n",
       "    }\n",
       "</style>\n",
       "<table border=\"1\" class=\"dataframe\">\n",
       "  <thead>\n",
       "    <tr style=\"text-align: right;\">\n",
       "      <th></th>\n",
       "      <th>Flow ID</th>\n",
       "      <th>Src IP</th>\n",
       "      <th>Src Port</th>\n",
       "      <th>Dst IP</th>\n",
       "      <th>Dst Port</th>\n",
       "      <th>Protocol</th>\n",
       "      <th>Timestamp</th>\n",
       "      <th>Flow Duration</th>\n",
       "      <th>Tot Fwd Pkts</th>\n",
       "      <th>Tot Bwd Pkts</th>\n",
       "      <th>...</th>\n",
       "      <th>Fwd Seg Size Min</th>\n",
       "      <th>Active Mean</th>\n",
       "      <th>Active Std</th>\n",
       "      <th>Active Max</th>\n",
       "      <th>Active Min</th>\n",
       "      <th>Idle Mean</th>\n",
       "      <th>Idle Std</th>\n",
       "      <th>Idle Max</th>\n",
       "      <th>Idle Min</th>\n",
       "      <th>Label</th>\n",
       "    </tr>\n",
       "  </thead>\n",
       "  <tbody>\n",
       "    <tr>\n",
       "      <th>100360</th>\n",
       "      <td>192.168.1.113-82.202.226.189-61944-443-6</td>\n",
       "      <td>82.202.226.189</td>\n",
       "      <td>443</td>\n",
       "      <td>192.168.1.113</td>\n",
       "      <td>61944</td>\n",
       "      <td>6</td>\n",
       "      <td>19/01/1970 03:38:29 AM</td>\n",
       "      <td>1101101</td>\n",
       "      <td>2</td>\n",
       "      <td>1</td>\n",
       "      <td>...</td>\n",
       "      <td>0</td>\n",
       "      <td>0.000000e+00</td>\n",
       "      <td>0.000000</td>\n",
       "      <td>0.0</td>\n",
       "      <td>0.0</td>\n",
       "      <td>0.000000e+00</td>\n",
       "      <td>0.000000e+00</td>\n",
       "      <td>0.0</td>\n",
       "      <td>0.0</td>\n",
       "      <td>1</td>\n",
       "    </tr>\n",
       "    <tr>\n",
       "      <th>121468</th>\n",
       "      <td>10.0.2.15-52.94.220.16-56266-443-6</td>\n",
       "      <td>10.0.2.15</td>\n",
       "      <td>56266</td>\n",
       "      <td>52.94.220.16</td>\n",
       "      <td>443</td>\n",
       "      <td>6</td>\n",
       "      <td>01/01/1970 10:12:03 AM</td>\n",
       "      <td>6984634</td>\n",
       "      <td>8</td>\n",
       "      <td>10</td>\n",
       "      <td>...</td>\n",
       "      <td>0</td>\n",
       "      <td>1.264518e+06</td>\n",
       "      <td>0.000000</td>\n",
       "      <td>1264518.0</td>\n",
       "      <td>1264518.0</td>\n",
       "      <td>5.719560e+06</td>\n",
       "      <td>0.000000e+00</td>\n",
       "      <td>5719560.0</td>\n",
       "      <td>5719560.0</td>\n",
       "      <td>0</td>\n",
       "    </tr>\n",
       "    <tr>\n",
       "      <th>37401</th>\n",
       "      <td>195.216.249.89-10.0.2.15-443-57438-6</td>\n",
       "      <td>10.0.2.15</td>\n",
       "      <td>57438</td>\n",
       "      <td>195.216.249.89</td>\n",
       "      <td>443</td>\n",
       "      <td>6</td>\n",
       "      <td>01/01/1970 09:47:24 AM</td>\n",
       "      <td>119272058</td>\n",
       "      <td>21</td>\n",
       "      <td>28</td>\n",
       "      <td>...</td>\n",
       "      <td>0</td>\n",
       "      <td>3.215226e+05</td>\n",
       "      <td>870723.526291</td>\n",
       "      <td>2974285.0</td>\n",
       "      <td>1346.0</td>\n",
       "      <td>9.617593e+06</td>\n",
       "      <td>1.250030e+06</td>\n",
       "      <td>10090434.0</td>\n",
       "      <td>5699785.0</td>\n",
       "      <td>0</td>\n",
       "    </tr>\n",
       "    <tr>\n",
       "      <th>232565</th>\n",
       "      <td>185.33.220.26-10.0.2.15-443-50794-6</td>\n",
       "      <td>10.0.2.15</td>\n",
       "      <td>50794</td>\n",
       "      <td>185.33.220.26</td>\n",
       "      <td>443</td>\n",
       "      <td>6</td>\n",
       "      <td>01/01/1970 10:43:19 AM</td>\n",
       "      <td>10766858</td>\n",
       "      <td>9</td>\n",
       "      <td>18</td>\n",
       "      <td>...</td>\n",
       "      <td>0</td>\n",
       "      <td>7.762710e+05</td>\n",
       "      <td>0.000000</td>\n",
       "      <td>776271.0</td>\n",
       "      <td>776271.0</td>\n",
       "      <td>9.987692e+06</td>\n",
       "      <td>0.000000e+00</td>\n",
       "      <td>9987692.0</td>\n",
       "      <td>9987692.0</td>\n",
       "      <td>0</td>\n",
       "    </tr>\n",
       "    <tr>\n",
       "      <th>64279</th>\n",
       "      <td>192.168.1.113-92.53.91.20-53883-443-6</td>\n",
       "      <td>192.168.1.113</td>\n",
       "      <td>53883</td>\n",
       "      <td>92.53.91.20</td>\n",
       "      <td>443</td>\n",
       "      <td>6</td>\n",
       "      <td>10/01/1970 05:57:23 AM</td>\n",
       "      <td>1148309</td>\n",
       "      <td>2</td>\n",
       "      <td>4</td>\n",
       "      <td>...</td>\n",
       "      <td>0</td>\n",
       "      <td>0.000000e+00</td>\n",
       "      <td>0.000000</td>\n",
       "      <td>0.0</td>\n",
       "      <td>0.0</td>\n",
       "      <td>0.000000e+00</td>\n",
       "      <td>0.000000e+00</td>\n",
       "      <td>0.0</td>\n",
       "      <td>0.0</td>\n",
       "      <td>1</td>\n",
       "    </tr>\n",
       "  </tbody>\n",
       "</table>\n",
       "<p>5 rows × 84 columns</p>\n",
       "</div>"
      ],
      "text/plain": [
       "                                         Flow ID          Src IP  Src Port   \n",
       "100360  192.168.1.113-82.202.226.189-61944-443-6  82.202.226.189       443  \\\n",
       "121468        10.0.2.15-52.94.220.16-56266-443-6       10.0.2.15     56266   \n",
       "37401       195.216.249.89-10.0.2.15-443-57438-6       10.0.2.15     57438   \n",
       "232565       185.33.220.26-10.0.2.15-443-50794-6       10.0.2.15     50794   \n",
       "64279      192.168.1.113-92.53.91.20-53883-443-6   192.168.1.113     53883   \n",
       "\n",
       "                Dst IP  Dst Port  Protocol               Timestamp   \n",
       "100360   192.168.1.113     61944         6  19/01/1970 03:38:29 AM  \\\n",
       "121468    52.94.220.16       443         6  01/01/1970 10:12:03 AM   \n",
       "37401   195.216.249.89       443         6  01/01/1970 09:47:24 AM   \n",
       "232565   185.33.220.26       443         6  01/01/1970 10:43:19 AM   \n",
       "64279      92.53.91.20       443         6  10/01/1970 05:57:23 AM   \n",
       "\n",
       "        Flow Duration  Tot Fwd Pkts  Tot Bwd Pkts  ...  Fwd Seg Size Min   \n",
       "100360        1101101             2             1  ...                 0  \\\n",
       "121468        6984634             8            10  ...                 0   \n",
       "37401       119272058            21            28  ...                 0   \n",
       "232565       10766858             9            18  ...                 0   \n",
       "64279         1148309             2             4  ...                 0   \n",
       "\n",
       "         Active Mean     Active Std  Active Max  Active Min     Idle Mean   \n",
       "100360  0.000000e+00       0.000000         0.0         0.0  0.000000e+00  \\\n",
       "121468  1.264518e+06       0.000000   1264518.0   1264518.0  5.719560e+06   \n",
       "37401   3.215226e+05  870723.526291   2974285.0      1346.0  9.617593e+06   \n",
       "232565  7.762710e+05       0.000000    776271.0    776271.0  9.987692e+06   \n",
       "64279   0.000000e+00       0.000000         0.0         0.0  0.000000e+00   \n",
       "\n",
       "            Idle Std    Idle Max   Idle Min  Label  \n",
       "100360  0.000000e+00         0.0        0.0      1  \n",
       "121468  0.000000e+00   5719560.0  5719560.0      0  \n",
       "37401   1.250030e+06  10090434.0  5699785.0      0  \n",
       "232565  0.000000e+00   9987692.0  9987692.0      0  \n",
       "64279   0.000000e+00         0.0        0.0      1  \n",
       "\n",
       "[5 rows x 84 columns]"
      ]
     },
     "execution_count": 2,
     "metadata": {},
     "output_type": "execute_result"
    }
   ],
   "source": [
    "normal = pd.read_csv('../Dataset/MCFP/malware.csv')\n",
    "malware = pd.read_csv('../Dataset/MCFP/normal.csv')\n",
    "\n",
    "df = pd.concat([malware, normal])\n",
    "df = df.sample(frac=1, replace=False, random_state=27)\n",
    "df.head(5)"
   ]
  },
  {
   "cell_type": "code",
   "execution_count": 3,
   "metadata": {},
   "outputs": [
    {
     "data": {
      "text/plain": [
       "Label\n",
       "0    237835\n",
       "1    116528\n",
       "Name: count, dtype: int64"
      ]
     },
     "execution_count": 3,
     "metadata": {},
     "output_type": "execute_result"
    }
   ],
   "source": [
    "df['Label'].value_counts()"
   ]
  },
  {
   "cell_type": "code",
   "execution_count": 4,
   "metadata": {},
   "outputs": [],
   "source": [
    "df_cp = df.copy()"
   ]
  },
  {
   "cell_type": "code",
   "execution_count": 5,
   "metadata": {},
   "outputs": [
    {
     "name": "stdout",
     "output_type": "stream",
     "text": [
      "dataset shape (354363, 84)\n",
      "zero variance columns ['Protocol', 'Fwd PSH Flags', 'Fwd URG Flags', 'Bwd URG Flags', 'URG Flag Cnt', 'CWE Flag Count', 'ECE Flag Cnt', 'Fwd Byts/b Avg', 'Fwd Pkts/b Avg', 'Fwd Blk Rate Avg', 'Bwd Byts/b Avg', 'Bwd Pkts/b Avg', 'Bwd Blk Rate Avg', 'Init Fwd Win Byts', 'Fwd Seg Size Min'] dropped\n",
      "shape after removing zero variance columns: (354363, 69)\n",
      "122 rows dropped\n",
      "shape after removing nan: (354241, 69)\n",
      "shape after dropping duplicates: (240776, 69)\n",
      "columns which have identical values [('Tot Fwd Pkts', 'Subflow Fwd Pkts'), ('Tot Bwd Pkts', 'Subflow Bwd Pkts'), ('Bwd PSH Flags', 'PSH Flag Cnt')] dropped\n",
      "shape after removing identical value columns: (240776, 66)\n"
     ]
    }
   ],
   "source": [
    "def clean_df(df):\n",
    "    # Remove the space before each feature names\n",
    "    df.columns = df.columns.str.strip()\n",
    "    print('dataset shape', df.shape)\n",
    "\n",
    "    # This set of feature should have >= 0 values\n",
    "    num = df._get_numeric_data()\n",
    "    num[num < 0] = 0\n",
    "\n",
    "    zero_variance_cols = []\n",
    "    for col in df.columns:\n",
    "        if len(df[col].unique()) == 1:\n",
    "            zero_variance_cols.append(col)\n",
    "    df.drop(zero_variance_cols, axis = 1, inplace = True)\n",
    "    print('zero variance columns', zero_variance_cols, 'dropped')\n",
    "    print('shape after removing zero variance columns:', df.shape)\n",
    "\n",
    "    df.replace([np.inf, -np.inf], np.nan, inplace = True)\n",
    "    print(df.isna().any(axis = 1).sum(), 'rows dropped')\n",
    "    df.dropna(inplace = True)\n",
    "    print('shape after removing nan:', df.shape)\n",
    "\n",
    "    # Drop duplicate rows\n",
    "    df.drop_duplicates(inplace = True)\n",
    "    print('shape after dropping duplicates:', df.shape)\n",
    "\n",
    "    column_pairs = [(i, j) for i, j in combinations(df, 2) if df[i].equals(df[j])]\n",
    "    ide_cols = []\n",
    "    for column_pair in column_pairs:\n",
    "        ide_cols.append(column_pair[1])\n",
    "    df.drop(ide_cols, axis = 1, inplace = True)\n",
    "    print('columns which have identical values', column_pairs, 'dropped')\n",
    "    print('shape after removing identical value columns:', df.shape)\n",
    "    return df\n",
    "df_cp = clean_df(df_cp)"
   ]
  },
  {
   "cell_type": "code",
   "execution_count": 6,
   "metadata": {},
   "outputs": [
    {
     "data": {
      "text/plain": [
       "Index(['Flow ID', 'Src IP', 'Src Port', 'Dst IP', 'Dst Port', 'Timestamp',\n",
       "       'Flow Duration', 'Tot Fwd Pkts', 'Tot Bwd Pkts', 'TotLen Fwd Pkts',\n",
       "       'TotLen Bwd Pkts', 'Fwd Pkt Len Max', 'Fwd Pkt Len Min',\n",
       "       'Fwd Pkt Len Mean', 'Fwd Pkt Len Std', 'Bwd Pkt Len Max',\n",
       "       'Bwd Pkt Len Min', 'Bwd Pkt Len Mean', 'Bwd Pkt Len Std', 'Flow Byts/s',\n",
       "       'Flow Pkts/s', 'Flow IAT Mean', 'Flow IAT Std', 'Flow IAT Max',\n",
       "       'Flow IAT Min', 'Fwd IAT Tot', 'Fwd IAT Mean', 'Fwd IAT Std',\n",
       "       'Fwd IAT Max', 'Fwd IAT Min', 'Bwd IAT Tot', 'Bwd IAT Mean',\n",
       "       'Bwd IAT Std', 'Bwd IAT Max', 'Bwd IAT Min', 'Bwd PSH Flags',\n",
       "       'Fwd Header Len', 'Bwd Header Len', 'Fwd Pkts/s', 'Bwd Pkts/s',\n",
       "       'Pkt Len Min', 'Pkt Len Max', 'Pkt Len Mean', 'Pkt Len Std',\n",
       "       'Pkt Len Var', 'FIN Flag Cnt', 'SYN Flag Cnt', 'RST Flag Cnt',\n",
       "       'ACK Flag Cnt', 'Down/Up Ratio', 'Pkt Size Avg', 'Fwd Seg Size Avg',\n",
       "       'Bwd Seg Size Avg', 'Subflow Fwd Byts', 'Subflow Bwd Byts',\n",
       "       'Init Bwd Win Byts', 'Fwd Act Data Pkts', 'Active Mean', 'Active Std',\n",
       "       'Active Max', 'Active Min', 'Idle Mean', 'Idle Std', 'Idle Max',\n",
       "       'Idle Min', 'Label'],\n",
       "      dtype='object')"
      ]
     },
     "execution_count": 6,
     "metadata": {},
     "output_type": "execute_result"
    }
   ],
   "source": [
    "df_cp.columns"
   ]
  },
  {
   "cell_type": "code",
   "execution_count": 7,
   "metadata": {},
   "outputs": [],
   "source": [
    "drop_columns = ['Flow ID', 'Src IP', 'Src Port', 'Dst IP', 'Dst Port', 'Timestamp']\n",
    "df_cp = df_cp.drop(drop_columns, axis=1)"
   ]
  },
  {
   "cell_type": "code",
   "execution_count": 7,
   "metadata": {},
   "outputs": [],
   "source": [
    "# df_cp = df_cpz.copy()"
   ]
  },
  {
   "cell_type": "code",
   "execution_count": 34,
   "metadata": {},
   "outputs": [],
   "source": [
    "from sklearn.feature_selection import SelectKBest\n",
    "\n",
    "\n",
    "def select_k_best(score, X, Y, k=20):\n",
    "    selector = SelectKBest(score, k=k)\n",
    "    selector.fit_transform(X, Y)\n",
    "    names = X.columns.values[selector.get_support()]\n",
    "    scores = selector.scores_[selector.get_support()]\n",
    "    names_scores = list(zip(names, scores))\n",
    "    df_reduced = pd.DataFrame(data=names_scores, columns=['feature_names', 'score'])\n",
    "\n",
    "    df_reduced = df_reduced.sort_values(['score', 'feature_names'], ascending=[False, True])\n",
    "    print(df_reduced)\n",
    "    return df_reduced.feature_names"
   ]
  },
  {
   "cell_type": "code",
   "execution_count": 35,
   "metadata": {},
   "outputs": [
    {
     "name": "stdout",
     "output_type": "stream",
     "text": [
      "        feature_names     score\n",
      "15  Init Bwd Win Byts  0.576895\n",
      "3        Flow IAT Max  0.514007\n",
      "2       Flow Duration  0.510121\n",
      "7         Flow Pkts/s  0.478815\n",
      "4       Flow IAT Mean  0.478207\n",
      "13         Fwd Pkts/s  0.474387\n",
      "1          Bwd Pkts/s  0.472658\n",
      "5        Flow IAT Min  0.421042\n",
      "11        Fwd IAT Tot  0.412886\n",
      "8         Fwd IAT Max  0.412566\n",
      "0      Bwd Header Len  0.397485\n",
      "9        Fwd IAT Mean  0.389084\n",
      "10        Fwd IAT Min  0.384907\n",
      "6        Flow IAT Std  0.364212\n",
      "16       Pkt Len Mean  0.306988\n",
      "18        Pkt Len Var  0.305920\n",
      "17        Pkt Len Std  0.305860\n",
      "19       Pkt Size Avg  0.304943\n",
      "12    Fwd Pkt Len Std  0.299988\n",
      "14   Fwd Seg Size Avg  0.298739\n"
     ]
    }
   ],
   "source": [
    "from sklearn.feature_selection import mutual_info_classif, f_classif\n",
    "\n",
    "frs_mi = select_k_best(mutual_info_classif, df_cp[df_cp.columns.difference(['Label'])], df_cp.Label)"
   ]
  },
  {
   "cell_type": "code",
   "execution_count": null,
   "metadata": {},
   "outputs": [],
   "source": [
    "frs_anova = select_k_best(f_classif, df_cp[df_cp.columns.difference(['Label'])], df_cp.Label)"
   ]
  },
  {
   "cell_type": "code",
   "execution_count": 10,
   "metadata": {},
   "outputs": [
    {
     "data": {
      "text/plain": [
       "Label                     1.000000\n",
       "Fwd IAT Total             0.033909\n",
       "Init_Win_bytes_forward    0.029300\n",
       "Fwd IAT Max               0.028861\n",
       "PSH Flag Count            0.025404\n",
       "                            ...   \n",
       "ACK Flag Count           -0.040995\n",
       "URG Flag Count           -0.043195\n",
       "Bwd PSH Flags                  NaN\n",
       "CWE Flag Count                 NaN\n",
       "Fwd Avg Bytes/Bulk             NaN\n",
       "Name: Label, Length: 63, dtype: float64"
      ]
     },
     "execution_count": 10,
     "metadata": {},
     "output_type": "execute_result"
    }
   ],
   "source": [
    "correlation =df_cp.corr()\n",
    "correlation['Label'].sort_values(ascending = False)"
   ]
  },
  {
   "cell_type": "code",
   "execution_count": 11,
   "metadata": {},
   "outputs": [],
   "source": [
    "drop_columns = ['Bwd PSH Flags', 'CWE Flag Count', 'Fwd Avg Bytes/Bulk']\n",
    "df_cp = df_cp.drop(drop_columns, axis=1)"
   ]
  },
  {
   "cell_type": "code",
   "execution_count": 17,
   "metadata": {},
   "outputs": [
    {
     "data": {
      "text/plain": [
       "Index(['Label', 'Fwd IAT Total', 'Init_Win_bytes_forward', 'Fwd IAT Max',\n",
       "       'PSH Flag Count', 'Fwd IAT Std', 'Flow Duration', 'Min Packet Length',\n",
       "       'Active Mean', 'Active Max', 'Active Min'],\n",
       "      dtype='object')"
      ]
     },
     "execution_count": 17,
     "metadata": {},
     "output_type": "execute_result"
    }
   ],
   "source": [
    "corrlabel = correlation['Label'].sort_values(ascending = False)\n",
    "features = corrlabel[corrlabel >= 0.02].index\n",
    "features"
   ]
  },
  {
   "cell_type": "code",
   "execution_count": 26,
   "metadata": {},
   "outputs": [
    {
     "data": {
      "text/html": [
       "<div>\n",
       "<style scoped>\n",
       "    .dataframe tbody tr th:only-of-type {\n",
       "        vertical-align: middle;\n",
       "    }\n",
       "\n",
       "    .dataframe tbody tr th {\n",
       "        vertical-align: top;\n",
       "    }\n",
       "\n",
       "    .dataframe thead th {\n",
       "        text-align: right;\n",
       "    }\n",
       "</style>\n",
       "<table border=\"1\" class=\"dataframe\">\n",
       "  <thead>\n",
       "    <tr style=\"text-align: right;\">\n",
       "      <th></th>\n",
       "      <th>Fwd IAT Total</th>\n",
       "      <th>Init_Win_bytes_forward</th>\n",
       "      <th>Fwd IAT Max</th>\n",
       "      <th>PSH Flag Count</th>\n",
       "      <th>Fwd IAT Std</th>\n",
       "      <th>Flow Duration</th>\n",
       "      <th>Min Packet Length</th>\n",
       "      <th>Active Mean</th>\n",
       "      <th>Active Max</th>\n",
       "      <th>Active Min</th>\n",
       "    </tr>\n",
       "  </thead>\n",
       "  <tbody>\n",
       "    <tr>\n",
       "      <th>0</th>\n",
       "      <td>194.0</td>\n",
       "      <td>1420.0</td>\n",
       "      <td>194.0</td>\n",
       "      <td>0.0</td>\n",
       "      <td>0.000000</td>\n",
       "      <td>194.0</td>\n",
       "      <td>0.0</td>\n",
       "      <td>0.0</td>\n",
       "      <td>0.0</td>\n",
       "      <td>0.0</td>\n",
       "    </tr>\n",
       "    <tr>\n",
       "      <th>1</th>\n",
       "      <td>5.0</td>\n",
       "      <td>1593.0</td>\n",
       "      <td>5.0</td>\n",
       "      <td>0.0</td>\n",
       "      <td>0.000000</td>\n",
       "      <td>5.0</td>\n",
       "      <td>0.0</td>\n",
       "      <td>0.0</td>\n",
       "      <td>0.0</td>\n",
       "      <td>0.0</td>\n",
       "    </tr>\n",
       "    <tr>\n",
       "      <th>2</th>\n",
       "      <td>150895.0</td>\n",
       "      <td>65535.0</td>\n",
       "      <td>51773.0</td>\n",
       "      <td>1.0</td>\n",
       "      <td>20568.245793</td>\n",
       "      <td>199542.0</td>\n",
       "      <td>0.0</td>\n",
       "      <td>0.0</td>\n",
       "      <td>0.0</td>\n",
       "      <td>0.0</td>\n",
       "    </tr>\n",
       "    <tr>\n",
       "      <th>3</th>\n",
       "      <td>254.0</td>\n",
       "      <td>1594.0</td>\n",
       "      <td>254.0</td>\n",
       "      <td>0.0</td>\n",
       "      <td>0.000000</td>\n",
       "      <td>254.0</td>\n",
       "      <td>0.0</td>\n",
       "      <td>0.0</td>\n",
       "      <td>0.0</td>\n",
       "      <td>0.0</td>\n",
       "    </tr>\n",
       "    <tr>\n",
       "      <th>4</th>\n",
       "      <td>0.0</td>\n",
       "      <td>349.0</td>\n",
       "      <td>0.0</td>\n",
       "      <td>0.0</td>\n",
       "      <td>0.000000</td>\n",
       "      <td>2164751.0</td>\n",
       "      <td>0.0</td>\n",
       "      <td>0.0</td>\n",
       "      <td>0.0</td>\n",
       "      <td>0.0</td>\n",
       "    </tr>\n",
       "  </tbody>\n",
       "</table>\n",
       "</div>"
      ],
      "text/plain": [
       "   Fwd IAT Total  Init_Win_bytes_forward  Fwd IAT Max  PSH Flag Count   \n",
       "0          194.0                  1420.0        194.0             0.0  \\\n",
       "1            5.0                  1593.0          5.0             0.0   \n",
       "2       150895.0                 65535.0      51773.0             1.0   \n",
       "3          254.0                  1594.0        254.0             0.0   \n",
       "4            0.0                   349.0          0.0             0.0   \n",
       "\n",
       "    Fwd IAT Std  Flow Duration  Min Packet Length  Active Mean  Active Max   \n",
       "0      0.000000          194.0                0.0          0.0         0.0  \\\n",
       "1      0.000000            5.0                0.0          0.0         0.0   \n",
       "2  20568.245793       199542.0                0.0          0.0         0.0   \n",
       "3      0.000000          254.0                0.0          0.0         0.0   \n",
       "4      0.000000      2164751.0                0.0          0.0         0.0   \n",
       "\n",
       "   Active Min  \n",
       "0         0.0  \n",
       "1         0.0  \n",
       "2         0.0  \n",
       "3         0.0  \n",
       "4         0.0  "
      ]
     },
     "execution_count": 26,
     "metadata": {},
     "output_type": "execute_result"
    }
   ],
   "source": [
    "X.head()"
   ]
  },
  {
   "cell_type": "code",
   "execution_count": 27,
   "metadata": {},
   "outputs": [],
   "source": [
    "ftpos = []\n",
    "for ft in X.columns:\n",
    "    if X.loc[X[ft] < 0].size > 0:\n",
    "        ftpos.append(ft)\n",
    "        print(ft)\n",
    "        print(X.loc[X[ft] < 0].shape[0])"
   ]
  },
  {
   "cell_type": "code",
   "execution_count": 8,
   "metadata": {},
   "outputs": [
    {
     "data": {
      "text/plain": [
       "Index(['Flow Duration', 'Tot Fwd Pkts', 'Tot Bwd Pkts', 'TotLen Fwd Pkts',\n",
       "       'TotLen Bwd Pkts', 'Fwd Pkt Len Max', 'Fwd Pkt Len Min',\n",
       "       'Fwd Pkt Len Mean', 'Fwd Pkt Len Std', 'Bwd Pkt Len Max',\n",
       "       'Bwd Pkt Len Min', 'Bwd Pkt Len Mean', 'Bwd Pkt Len Std', 'Flow Byts/s',\n",
       "       'Flow Pkts/s', 'Flow IAT Mean', 'Flow IAT Std', 'Flow IAT Max',\n",
       "       'Flow IAT Min', 'Fwd IAT Tot', 'Fwd IAT Mean', 'Fwd IAT Std',\n",
       "       'Fwd IAT Max', 'Fwd IAT Min', 'Bwd IAT Tot', 'Bwd IAT Mean',\n",
       "       'Bwd IAT Std', 'Bwd IAT Max', 'Bwd IAT Min', 'Bwd PSH Flags',\n",
       "       'Fwd Header Len', 'Bwd Header Len', 'Fwd Pkts/s', 'Bwd Pkts/s',\n",
       "       'Pkt Len Min', 'Pkt Len Max', 'Pkt Len Mean', 'Pkt Len Std',\n",
       "       'Pkt Len Var', 'FIN Flag Cnt', 'SYN Flag Cnt', 'RST Flag Cnt',\n",
       "       'ACK Flag Cnt', 'Down/Up Ratio', 'Pkt Size Avg', 'Fwd Seg Size Avg',\n",
       "       'Bwd Seg Size Avg', 'Subflow Fwd Byts', 'Subflow Bwd Byts',\n",
       "       'Init Bwd Win Byts', 'Fwd Act Data Pkts', 'Active Mean', 'Active Std',\n",
       "       'Active Max', 'Active Min', 'Idle Mean', 'Idle Std', 'Idle Max',\n",
       "       'Idle Min', 'Label'],\n",
       "      dtype='object')"
      ]
     },
     "execution_count": 8,
     "metadata": {},
     "output_type": "execute_result"
    }
   ],
   "source": [
    "df_cp.columns"
   ]
  },
  {
   "cell_type": "code",
   "execution_count": 10,
   "metadata": {},
   "outputs": [],
   "source": [
    "# X = df_cp.drop(['Label'], axis=1)\n",
    "# y = df_cp.Label\n",
    "features = ['Flow Duration', 'Flow IAT Max', 'Flow Pkts/s', 'Flow IAT Mean', 'Fwd Pkts/s', 'Bwd Pkts/s']\n",
    "X = pd.get_dummies(df_cp[features])\n",
    "# X = df_test.drop(['Label'], axis=1)\n",
    "y = df_cp.Label"
   ]
  },
  {
   "cell_type": "markdown",
   "metadata": {},
   "source": [
    "Scaler"
   ]
  },
  {
   "cell_type": "code",
   "execution_count": 13,
   "metadata": {},
   "outputs": [],
   "source": [
    "from sklearn.preprocessing import StandardScaler\n",
    "\n",
    "scaler = StandardScaler()\n",
    "X = scaler.fit_transform(X)"
   ]
  },
  {
   "cell_type": "markdown",
   "metadata": {},
   "source": [
    "Test Ml"
   ]
  },
  {
   "cell_type": "code",
   "execution_count": 14,
   "metadata": {},
   "outputs": [],
   "source": [
    "from sklearn.model_selection import train_test_split\n",
    "\n",
    "X_train, X_test, y_train, y_test = train_test_split(X, y, shuffle = True, stratify = y, random_state = 0, test_size = 0.3)"
   ]
  },
  {
   "cell_type": "code",
   "execution_count": 15,
   "metadata": {},
   "outputs": [],
   "source": [
    "from sklearn.ensemble import RandomForestClassifier\n",
    "from sklearn.metrics import mean_absolute_error\n",
    "from lightgbm import LGBMClassifier\n",
    "from sklearn.metrics import accuracy_score, precision_score, recall_score, roc_auc_score\n",
    "from xgboost import XGBClassifier\n"
   ]
  },
  {
   "cell_type": "code",
   "execution_count": 16,
   "metadata": {},
   "outputs": [
    {
     "data": {
      "text/html": [
       "<style>#sk-container-id-1 {color: black;background-color: white;}#sk-container-id-1 pre{padding: 0;}#sk-container-id-1 div.sk-toggleable {background-color: white;}#sk-container-id-1 label.sk-toggleable__label {cursor: pointer;display: block;width: 100%;margin-bottom: 0;padding: 0.3em;box-sizing: border-box;text-align: center;}#sk-container-id-1 label.sk-toggleable__label-arrow:before {content: \"▸\";float: left;margin-right: 0.25em;color: #696969;}#sk-container-id-1 label.sk-toggleable__label-arrow:hover:before {color: black;}#sk-container-id-1 div.sk-estimator:hover label.sk-toggleable__label-arrow:before {color: black;}#sk-container-id-1 div.sk-toggleable__content {max-height: 0;max-width: 0;overflow: hidden;text-align: left;background-color: #f0f8ff;}#sk-container-id-1 div.sk-toggleable__content pre {margin: 0.2em;color: black;border-radius: 0.25em;background-color: #f0f8ff;}#sk-container-id-1 input.sk-toggleable__control:checked~div.sk-toggleable__content {max-height: 200px;max-width: 100%;overflow: auto;}#sk-container-id-1 input.sk-toggleable__control:checked~label.sk-toggleable__label-arrow:before {content: \"▾\";}#sk-container-id-1 div.sk-estimator input.sk-toggleable__control:checked~label.sk-toggleable__label {background-color: #d4ebff;}#sk-container-id-1 div.sk-label input.sk-toggleable__control:checked~label.sk-toggleable__label {background-color: #d4ebff;}#sk-container-id-1 input.sk-hidden--visually {border: 0;clip: rect(1px 1px 1px 1px);clip: rect(1px, 1px, 1px, 1px);height: 1px;margin: -1px;overflow: hidden;padding: 0;position: absolute;width: 1px;}#sk-container-id-1 div.sk-estimator {font-family: monospace;background-color: #f0f8ff;border: 1px dotted black;border-radius: 0.25em;box-sizing: border-box;margin-bottom: 0.5em;}#sk-container-id-1 div.sk-estimator:hover {background-color: #d4ebff;}#sk-container-id-1 div.sk-parallel-item::after {content: \"\";width: 100%;border-bottom: 1px solid gray;flex-grow: 1;}#sk-container-id-1 div.sk-label:hover label.sk-toggleable__label {background-color: #d4ebff;}#sk-container-id-1 div.sk-serial::before {content: \"\";position: absolute;border-left: 1px solid gray;box-sizing: border-box;top: 0;bottom: 0;left: 50%;z-index: 0;}#sk-container-id-1 div.sk-serial {display: flex;flex-direction: column;align-items: center;background-color: white;padding-right: 0.2em;padding-left: 0.2em;position: relative;}#sk-container-id-1 div.sk-item {position: relative;z-index: 1;}#sk-container-id-1 div.sk-parallel {display: flex;align-items: stretch;justify-content: center;background-color: white;position: relative;}#sk-container-id-1 div.sk-item::before, #sk-container-id-1 div.sk-parallel-item::before {content: \"\";position: absolute;border-left: 1px solid gray;box-sizing: border-box;top: 0;bottom: 0;left: 50%;z-index: -1;}#sk-container-id-1 div.sk-parallel-item {display: flex;flex-direction: column;z-index: 1;position: relative;background-color: white;}#sk-container-id-1 div.sk-parallel-item:first-child::after {align-self: flex-end;width: 50%;}#sk-container-id-1 div.sk-parallel-item:last-child::after {align-self: flex-start;width: 50%;}#sk-container-id-1 div.sk-parallel-item:only-child::after {width: 0;}#sk-container-id-1 div.sk-dashed-wrapped {border: 1px dashed gray;margin: 0 0.4em 0.5em 0.4em;box-sizing: border-box;padding-bottom: 0.4em;background-color: white;}#sk-container-id-1 div.sk-label label {font-family: monospace;font-weight: bold;display: inline-block;line-height: 1.2em;}#sk-container-id-1 div.sk-label-container {text-align: center;}#sk-container-id-1 div.sk-container {/* jupyter's `normalize.less` sets `[hidden] { display: none; }` but bootstrap.min.css set `[hidden] { display: none !important; }` so we also need the `!important` here to be able to override the default hidden behavior on the sphinx rendered scikit-learn.org. See: https://github.com/scikit-learn/scikit-learn/issues/21755 */display: inline-block !important;position: relative;}#sk-container-id-1 div.sk-text-repr-fallback {display: none;}</style><div id=\"sk-container-id-1\" class=\"sk-top-container\"><div class=\"sk-text-repr-fallback\"><pre>RandomForestClassifier(random_state=27)</pre><b>In a Jupyter environment, please rerun this cell to show the HTML representation or trust the notebook. <br />On GitHub, the HTML representation is unable to render, please try loading this page with nbviewer.org.</b></div><div class=\"sk-container\" hidden><div class=\"sk-item\"><div class=\"sk-estimator sk-toggleable\"><input class=\"sk-toggleable__control sk-hidden--visually\" id=\"sk-estimator-id-1\" type=\"checkbox\" checked><label for=\"sk-estimator-id-1\" class=\"sk-toggleable__label sk-toggleable__label-arrow\">RandomForestClassifier</label><div class=\"sk-toggleable__content\"><pre>RandomForestClassifier(random_state=27)</pre></div></div></div></div></div>"
      ],
      "text/plain": [
       "RandomForestClassifier(random_state=27)"
      ]
     },
     "execution_count": 16,
     "metadata": {},
     "output_type": "execute_result"
    }
   ],
   "source": [
    "model = RandomForestClassifier(random_state=27)\n",
    "model.fit(X_train, y_train)"
   ]
  },
  {
   "cell_type": "code",
   "execution_count": 17,
   "metadata": {},
   "outputs": [],
   "source": [
    "from sklearn import metrics\n",
    "\n",
    "preds_val = model.predict(X_train)\n",
    "classification = metrics.classification_report(y_train, preds_val)\n",
    "confusion_matrix = metrics.confusion_matrix(y_train, preds_val)"
   ]
  },
  {
   "cell_type": "code",
   "execution_count": 18,
   "metadata": {},
   "outputs": [
    {
     "name": "stdout",
     "output_type": "stream",
     "text": [
      "0.993265813471933\n",
      "Confusion matrix:\n",
      " [[86376   637]\n",
      " [  498 81032]]\n",
      "Classification report:\n",
      "               precision    recall  f1-score   support\n",
      "\n",
      "           0       0.99      0.99      0.99     87013\n",
      "           1       0.99      0.99      0.99     81530\n",
      "\n",
      "    accuracy                           0.99    168543\n",
      "   macro avg       0.99      0.99      0.99    168543\n",
      "weighted avg       0.99      0.99      0.99    168543\n",
      "\n"
     ]
    }
   ],
   "source": [
    "print(accuracy_score(y_train, preds_val))\n",
    "print(\"Confusion matrix:\" \"\\n\", confusion_matrix)\n",
    "print(\"Classification report:\" \"\\n\", classification) "
   ]
  },
  {
   "cell_type": "code",
   "execution_count": 26,
   "metadata": {},
   "outputs": [
    {
     "name": "stdout",
     "output_type": "stream",
     "text": [
      "1.1618549823760986\n"
     ]
    }
   ],
   "source": [
    "from sklearn import metrics\n",
    "\n",
    "preds_val = model.predict(X_test)\n",
    "classification = metrics.classification_report(y_test, preds_val)\n",
    "confusion_matrix = metrics.confusion_matrix(y_test, preds_val)"
   ]
  },
  {
   "cell_type": "code",
   "execution_count": 20,
   "metadata": {},
   "outputs": [
    {
     "name": "stdout",
     "output_type": "stream",
     "text": [
      "0.9752467708665015\n",
      "Confusion matrix:\n",
      " [[36558   733]\n",
      " [ 1055 33887]]\n",
      "Classification report:\n",
      "               precision    recall  f1-score   support\n",
      "\n",
      "           0       0.97      0.98      0.98     37291\n",
      "           1       0.98      0.97      0.97     34942\n",
      "\n",
      "    accuracy                           0.98     72233\n",
      "   macro avg       0.98      0.98      0.98     72233\n",
      "weighted avg       0.98      0.98      0.98     72233\n",
      "\n"
     ]
    }
   ],
   "source": [
    "print(accuracy_score(y_test, preds_val))\n",
    "print(\"Confusion matrix:\" \"\\n\", confusion_matrix)\n",
    "print(\"Classification report:\" \"\\n\", classification) "
   ]
  },
  {
   "cell_type": "code",
   "execution_count": 27,
   "metadata": {},
   "outputs": [
    {
     "data": {
      "text/plain": [
       "Label\n",
       "0    37291\n",
       "1    34942\n",
       "Name: count, dtype: int64"
      ]
     },
     "execution_count": 27,
     "metadata": {},
     "output_type": "execute_result"
    }
   ],
   "source": [
    "y_test.value_counts()"
   ]
  },
  {
   "cell_type": "code",
   "execution_count": 21,
   "metadata": {},
   "outputs": [
    {
     "data": {
      "text/html": [
       "<style>#sk-container-id-2 {color: black;background-color: white;}#sk-container-id-2 pre{padding: 0;}#sk-container-id-2 div.sk-toggleable {background-color: white;}#sk-container-id-2 label.sk-toggleable__label {cursor: pointer;display: block;width: 100%;margin-bottom: 0;padding: 0.3em;box-sizing: border-box;text-align: center;}#sk-container-id-2 label.sk-toggleable__label-arrow:before {content: \"▸\";float: left;margin-right: 0.25em;color: #696969;}#sk-container-id-2 label.sk-toggleable__label-arrow:hover:before {color: black;}#sk-container-id-2 div.sk-estimator:hover label.sk-toggleable__label-arrow:before {color: black;}#sk-container-id-2 div.sk-toggleable__content {max-height: 0;max-width: 0;overflow: hidden;text-align: left;background-color: #f0f8ff;}#sk-container-id-2 div.sk-toggleable__content pre {margin: 0.2em;color: black;border-radius: 0.25em;background-color: #f0f8ff;}#sk-container-id-2 input.sk-toggleable__control:checked~div.sk-toggleable__content {max-height: 200px;max-width: 100%;overflow: auto;}#sk-container-id-2 input.sk-toggleable__control:checked~label.sk-toggleable__label-arrow:before {content: \"▾\";}#sk-container-id-2 div.sk-estimator input.sk-toggleable__control:checked~label.sk-toggleable__label {background-color: #d4ebff;}#sk-container-id-2 div.sk-label input.sk-toggleable__control:checked~label.sk-toggleable__label {background-color: #d4ebff;}#sk-container-id-2 input.sk-hidden--visually {border: 0;clip: rect(1px 1px 1px 1px);clip: rect(1px, 1px, 1px, 1px);height: 1px;margin: -1px;overflow: hidden;padding: 0;position: absolute;width: 1px;}#sk-container-id-2 div.sk-estimator {font-family: monospace;background-color: #f0f8ff;border: 1px dotted black;border-radius: 0.25em;box-sizing: border-box;margin-bottom: 0.5em;}#sk-container-id-2 div.sk-estimator:hover {background-color: #d4ebff;}#sk-container-id-2 div.sk-parallel-item::after {content: \"\";width: 100%;border-bottom: 1px solid gray;flex-grow: 1;}#sk-container-id-2 div.sk-label:hover label.sk-toggleable__label {background-color: #d4ebff;}#sk-container-id-2 div.sk-serial::before {content: \"\";position: absolute;border-left: 1px solid gray;box-sizing: border-box;top: 0;bottom: 0;left: 50%;z-index: 0;}#sk-container-id-2 div.sk-serial {display: flex;flex-direction: column;align-items: center;background-color: white;padding-right: 0.2em;padding-left: 0.2em;position: relative;}#sk-container-id-2 div.sk-item {position: relative;z-index: 1;}#sk-container-id-2 div.sk-parallel {display: flex;align-items: stretch;justify-content: center;background-color: white;position: relative;}#sk-container-id-2 div.sk-item::before, #sk-container-id-2 div.sk-parallel-item::before {content: \"\";position: absolute;border-left: 1px solid gray;box-sizing: border-box;top: 0;bottom: 0;left: 50%;z-index: -1;}#sk-container-id-2 div.sk-parallel-item {display: flex;flex-direction: column;z-index: 1;position: relative;background-color: white;}#sk-container-id-2 div.sk-parallel-item:first-child::after {align-self: flex-end;width: 50%;}#sk-container-id-2 div.sk-parallel-item:last-child::after {align-self: flex-start;width: 50%;}#sk-container-id-2 div.sk-parallel-item:only-child::after {width: 0;}#sk-container-id-2 div.sk-dashed-wrapped {border: 1px dashed gray;margin: 0 0.4em 0.5em 0.4em;box-sizing: border-box;padding-bottom: 0.4em;background-color: white;}#sk-container-id-2 div.sk-label label {font-family: monospace;font-weight: bold;display: inline-block;line-height: 1.2em;}#sk-container-id-2 div.sk-label-container {text-align: center;}#sk-container-id-2 div.sk-container {/* jupyter's `normalize.less` sets `[hidden] { display: none; }` but bootstrap.min.css set `[hidden] { display: none !important; }` so we also need the `!important` here to be able to override the default hidden behavior on the sphinx rendered scikit-learn.org. See: https://github.com/scikit-learn/scikit-learn/issues/21755 */display: inline-block !important;position: relative;}#sk-container-id-2 div.sk-text-repr-fallback {display: none;}</style><div id=\"sk-container-id-2\" class=\"sk-top-container\"><div class=\"sk-text-repr-fallback\"><pre>XGBClassifier(base_score=None, booster=None, callbacks=None,\n",
       "              colsample_bylevel=None, colsample_bynode=None,\n",
       "              colsample_bytree=None, early_stopping_rounds=None,\n",
       "              enable_categorical=False, eval_metric=None, feature_types=None,\n",
       "              gamma=0.1, gpu_id=None, grow_policy=None, importance_type=None,\n",
       "              interaction_constraints=None, learning_rate=None, max_bin=None,\n",
       "              max_cat_threshold=None, max_cat_to_onehot=None,\n",
       "              max_delta_step=None, max_depth=3, max_leaves=None,\n",
       "              min_child_weight=5, missing=nan, monotone_constraints=None,\n",
       "              n_estimators=1000, n_jobs=None, num_parallel_tree=None,\n",
       "              predictor=None, random_state=None, ...)</pre><b>In a Jupyter environment, please rerun this cell to show the HTML representation or trust the notebook. <br />On GitHub, the HTML representation is unable to render, please try loading this page with nbviewer.org.</b></div><div class=\"sk-container\" hidden><div class=\"sk-item\"><div class=\"sk-estimator sk-toggleable\"><input class=\"sk-toggleable__control sk-hidden--visually\" id=\"sk-estimator-id-2\" type=\"checkbox\" checked><label for=\"sk-estimator-id-2\" class=\"sk-toggleable__label sk-toggleable__label-arrow\">XGBClassifier</label><div class=\"sk-toggleable__content\"><pre>XGBClassifier(base_score=None, booster=None, callbacks=None,\n",
       "              colsample_bylevel=None, colsample_bynode=None,\n",
       "              colsample_bytree=None, early_stopping_rounds=None,\n",
       "              enable_categorical=False, eval_metric=None, feature_types=None,\n",
       "              gamma=0.1, gpu_id=None, grow_policy=None, importance_type=None,\n",
       "              interaction_constraints=None, learning_rate=None, max_bin=None,\n",
       "              max_cat_threshold=None, max_cat_to_onehot=None,\n",
       "              max_delta_step=None, max_depth=3, max_leaves=None,\n",
       "              min_child_weight=5, missing=nan, monotone_constraints=None,\n",
       "              n_estimators=1000, n_jobs=None, num_parallel_tree=None,\n",
       "              predictor=None, random_state=None, ...)</pre></div></div></div></div></div>"
      ],
      "text/plain": [
       "XGBClassifier(base_score=None, booster=None, callbacks=None,\n",
       "              colsample_bylevel=None, colsample_bynode=None,\n",
       "              colsample_bytree=None, early_stopping_rounds=None,\n",
       "              enable_categorical=False, eval_metric=None, feature_types=None,\n",
       "              gamma=0.1, gpu_id=None, grow_policy=None, importance_type=None,\n",
       "              interaction_constraints=None, learning_rate=None, max_bin=None,\n",
       "              max_cat_threshold=None, max_cat_to_onehot=None,\n",
       "              max_delta_step=None, max_depth=3, max_leaves=None,\n",
       "              min_child_weight=5, missing=nan, monotone_constraints=None,\n",
       "              n_estimators=1000, n_jobs=None, num_parallel_tree=None,\n",
       "              predictor=None, random_state=None, ...)"
      ]
     },
     "execution_count": 21,
     "metadata": {},
     "output_type": "execute_result"
    }
   ],
   "source": [
    "import xgboost as xgb\n",
    "\n",
    "model2 = xgb.XGBClassifier(n_estimators=1000, max_depth=3, gamma=0.1, min_child_weight=5)\n",
    "model2.fit(X_train, y_train)"
   ]
  },
  {
   "cell_type": "code",
   "execution_count": 22,
   "metadata": {},
   "outputs": [
    {
     "name": "stdout",
     "output_type": "stream",
     "text": [
      "0.9816070676325923\n",
      "Confusion matrix:\n",
      " [[85789  1224]\n",
      " [ 1876 79654]]\n",
      "Classification report:\n",
      "               precision    recall  f1-score   support\n",
      "\n",
      "           0       0.98      0.99      0.98     87013\n",
      "           1       0.98      0.98      0.98     81530\n",
      "\n",
      "    accuracy                           0.98    168543\n",
      "   macro avg       0.98      0.98      0.98    168543\n",
      "weighted avg       0.98      0.98      0.98    168543\n",
      "\n"
     ]
    }
   ],
   "source": [
    "preds_val = model2.predict(X_train)\n",
    "classification = metrics.classification_report(y_train, preds_val)\n",
    "confusion_matrix = metrics.confusion_matrix(y_train, preds_val)\n",
    "\n",
    "print(accuracy_score(y_train, preds_val))\n",
    "print(\"Confusion matrix:\" \"\\n\", confusion_matrix)\n",
    "print(\"Classification report:\" \"\\n\", classification) "
   ]
  },
  {
   "cell_type": "code",
   "execution_count": 23,
   "metadata": {},
   "outputs": [
    {
     "name": "stdout",
     "output_type": "stream",
     "text": [
      "0.975426744008971\n",
      "Confusion matrix:\n",
      " [[36612   679]\n",
      " [ 1096 33846]]\n",
      "Classification report:\n",
      "               precision    recall  f1-score   support\n",
      "\n",
      "           0       0.97      0.98      0.98     37291\n",
      "           1       0.98      0.97      0.97     34942\n",
      "\n",
      "    accuracy                           0.98     72233\n",
      "   macro avg       0.98      0.98      0.98     72233\n",
      "weighted avg       0.98      0.98      0.98     72233\n",
      "\n"
     ]
    }
   ],
   "source": [
    "preds_val = model2.predict(X_test)\n",
    "classification = metrics.classification_report(y_test, preds_val)\n",
    "confusion_matrix = metrics.confusion_matrix(y_test, preds_val)\n",
    "\n",
    "print(accuracy_score(y_test, preds_val))\n",
    "print(\"Confusion matrix:\" \"\\n\", confusion_matrix)\n",
    "print(\"Classification report:\" \"\\n\", classification) "
   ]
  },
  {
   "cell_type": "code",
   "execution_count": 39,
   "metadata": {},
   "outputs": [],
   "source": [
    "df_test = pd.get_dummies(df_cp[frs_mi])\n",
    "X1 = df_test\n",
    "y1 = df_cp.Label"
   ]
  },
  {
   "cell_type": "code",
   "execution_count": 24,
   "metadata": {},
   "outputs": [
    {
     "ename": "NameError",
     "evalue": "name 'X1' is not defined",
     "output_type": "error",
     "traceback": [
      "\u001b[1;31m---------------------------------------------------------------------------\u001b[0m",
      "\u001b[1;31mNameError\u001b[0m                                 Traceback (most recent call last)",
      "Cell \u001b[1;32mIn[24], line 3\u001b[0m\n\u001b[0;32m      1\u001b[0m \u001b[39mfrom\u001b[39;00m \u001b[39msklearn\u001b[39;00m\u001b[39m.\u001b[39;00m\u001b[39mmodel_selection\u001b[39;00m \u001b[39mimport\u001b[39;00m train_test_split\n\u001b[1;32m----> 3\u001b[0m X_train1, X_test1, y_train1, y_test1 \u001b[39m=\u001b[39m train_test_split(X1, y1, shuffle \u001b[39m=\u001b[39m \u001b[39mTrue\u001b[39;00m, stratify \u001b[39m=\u001b[39m y1, random_state \u001b[39m=\u001b[39m \u001b[39m0\u001b[39m, test_size \u001b[39m=\u001b[39m \u001b[39m0.3\u001b[39m)\n\u001b[0;32m      5\u001b[0m model \u001b[39m=\u001b[39m RandomForestClassifier(random_state\u001b[39m=\u001b[39m\u001b[39m27\u001b[39m)\n\u001b[0;32m      6\u001b[0m model\u001b[39m.\u001b[39mfit(X_train1, y_train1)\n",
      "\u001b[1;31mNameError\u001b[0m: name 'X1' is not defined"
     ]
    }
   ],
   "source": [
    "from sklearn.model_selection import train_test_split\n",
    "\n",
    "X_train1, X_test1, y_train1, y_test1 = train_test_split(X1, y1, shuffle = True, stratify = y1, random_state = 0, test_size = 0.3)\n",
    "\n",
    "model = RandomForestClassifier(random_state=27)\n",
    "model.fit(X_train1, y_train1)\n",
    "\n",
    "preds_val = model.predict(X_train1)\n",
    "classification = metrics.classification_report(y_train1, preds_val)\n",
    "confusion_matrix = metrics.confusion_matrix(y_train1, preds_val)\n",
    "\n",
    "print(accuracy_score(y_train1, preds_val))\n",
    "print(\"Confusion matrix:\" \"\\n\", confusion_matrix)\n",
    "print(\"Classification report:\" \"\\n\", classification) \n",
    "\n",
    "preds_val = model.predict(X_test1)\n",
    "classification = metrics.classification_report(y_test1, preds_val)\n",
    "confusion_matrix = metrics.confusion_matrix(y_test1, preds_val)\n",
    "\n",
    "print(accuracy_score(y_test1, preds_val))\n",
    "print(\"Confusion matrix:\" \"\\n\", confusion_matrix)\n",
    "print(\"Classification report:\" \"\\n\", classification) "
   ]
  },
  {
   "cell_type": "code",
   "execution_count": null,
   "metadata": {},
   "outputs": [],
   "source": [
    "def model_run(X1, y1, features):\n",
    "    X = pd.get_dummies(df_cp[features])\n",
    "    y = df_cp.Label\n",
    "\n",
    "    X_train1, X_test1, y_train1, y_test1 = train_test_split(X1, y1, shuffle = True, stratify = y1, random_state = 0, test_size = 0.3)\n",
    "\n",
    "    model = RandomForestClassifier(random_state=27)\n",
    "    model.fit(X_train1, y_train1)\n",
    "\n",
    "    preds_val = model.predict(X_train1)\n",
    "    classification = metrics.classification_report(y_train1, preds_val)\n",
    "    confusion_matrix = metrics.confusion_matrix(y_train1, preds_val)\n",
    "\n",
    "    print(accuracy_score(y_train1, preds_val))\n",
    "    print(\"Confusion matrix:\" \"\\n\", confusion_matrix)\n",
    "    print(\"Classification report:\" \"\\n\", classification) \n",
    "\n",
    "    preds_val = model.predict(X_test1)\n",
    "    classification = metrics.classification_report(y_test1, preds_val)\n",
    "    confusion_matrix = metrics.confusion_matrix(y_test1, preds_val)\n",
    "\n",
    "    print(accuracy_score(y_test1, preds_val))\n",
    "    print(\"Confusion matrix:\" \"\\n\", confusion_matrix)\n",
    "    print(\"Classification report:\" \"\\n\", classification) "
   ]
  },
  {
   "cell_type": "code",
   "execution_count": null,
   "metadata": {},
   "outputs": [],
   "source": [
    "for i in range(3, 20):\n",
    "    model_run(X1, y1, select_k_best(mutual_info_classif, X, Y, k=i))"
   ]
  }
 ],
 "metadata": {
  "kernelspec": {
   "display_name": "Python 3",
   "language": "python",
   "name": "python3"
  },
  "language_info": {
   "codemirror_mode": {
    "name": "ipython",
    "version": 3
   },
   "file_extension": ".py",
   "mimetype": "text/x-python",
   "name": "python",
   "nbconvert_exporter": "python",
   "pygments_lexer": "ipython3",
   "version": "3.11.3"
  },
  "orig_nbformat": 4
 },
 "nbformat": 4,
 "nbformat_minor": 2
}
