{
 "cells": [
  {
   "cell_type": "code",
   "execution_count": 2,
   "metadata": {},
   "outputs": [
    {
     "name": "stdout",
     "output_type": "stream",
     "text": [
      "OK\n"
     ]
    }
   ],
   "source": [
    "import pandas as pd\n",
    "import os\n",
    "import numpy as np\n",
    "\n",
    "print('OK')"
   ]
  },
  {
   "cell_type": "code",
   "execution_count": 5,
   "metadata": {},
   "outputs": [
    {
     "name": "stdout",
     "output_type": "stream",
     "text": [
      "../Dataset/CTU-13/csv/0\\2017-04-18_win-normal (1).pcap_Flow.csv\n",
      "../Dataset/CTU-13/csv/0\\2017-04-19_win-normal (1).pcap_Flow.csv\n",
      "../Dataset/CTU-13/csv/0\\2017-04-25_win-normal.pcap_Flow.csv\n",
      "../Dataset/CTU-13/csv/0\\2017-05-01_normal (1).pcap_Flow.csv\n",
      "../Dataset/CTU-13/csv/0\\2017-05-01_normal.pcap_Flow.csv\n",
      "../Dataset/CTU-13/csv/0\\2017-05-02_normal.pcap_Flow.csv\n",
      "../Dataset/CTU-13/csv/0\\2017_04_30-normal.pcap_Flow.csv\n",
      "../Dataset/CTU-13/csv/0\\capture-new-Windows-7-Full.pcap_Flow.csv\n",
      "8\n"
     ]
    }
   ],
   "source": [
    "full_normal = None\n",
    "count = 0\n",
    "\n",
    "for dirname, _, filenames in os.walk('../Dataset/CTU-13/csv/0'):\n",
    "    for filename in filenames:\n",
    "        data = pd.read_csv(os.path.join(dirname, filename))\n",
    "        full_normal = pd.concat([full_normal, data])\n",
    "        count+=1\n",
    "        print(os.path.join(dirname, filename))\n",
    "\n",
    "print(count)"
   ]
  },
  {
   "cell_type": "code",
   "execution_count": 6,
   "metadata": {},
   "outputs": [
    {
     "name": "stdout",
     "output_type": "stream",
     "text": [
      "../Dataset/CTU-13/csv/1\\botnet-capture-20110810-neris.pcap_Flow.csv\n",
      "../Dataset/CTU-13/csv/1\\botnet-capture-20110811-neris.pcap_Flow.csv\n",
      "../Dataset/CTU-13/csv/1\\botnet-capture-20110812-rbot.pcap_Flow.csv\n",
      "../Dataset/CTU-13/csv/1\\botnet-capture-20110815-fast-flux.pcap_Flow.csv\n",
      "../Dataset/CTU-13/csv/1\\botnet-capture-20110815-rbot-dos.pcap_Flow.csv\n",
      "../Dataset/CTU-13/csv/1\\botnet-capture-20110816-donbot.pcap_Flow.csv\n",
      "../Dataset/CTU-13/csv/1\\botnet-capture-20110816-qvod.pcap_Flow.csv\n",
      "../Dataset/CTU-13/csv/1\\botnet-capture-20110816-sogou.pcap_Flow.csv\n",
      "../Dataset/CTU-13/csv/1\\botnet-capture-20110817-bot.pcap_Flow.csv\n",
      "../Dataset/CTU-13/csv/1\\botnet-capture-20110818-bot-2.pcap_Flow.csv\n",
      "../Dataset/CTU-13/csv/1\\botnet-capture-20110819-bot.pcap_Flow.csv\n",
      "11\n"
     ]
    }
   ],
   "source": [
    "full_malware = None\n",
    "count = 0\n",
    "\n",
    "for dirname, _, filenames in os.walk('../Dataset/CTU-13/csv/1'):\n",
    "    for filename in filenames:\n",
    "        data = pd.read_csv(os.path.join(dirname, filename))\n",
    "        full_malware = pd.concat([full_malware, data])\n",
    "        count+=1\n",
    "        print(os.path.join(dirname, filename))\n",
    "\n",
    "print(count)"
   ]
  },
  {
   "cell_type": "code",
   "execution_count": 7,
   "metadata": {},
   "outputs": [
    {
     "data": {
      "text/plain": [
       "(259503, 84)"
      ]
     },
     "execution_count": 7,
     "metadata": {},
     "output_type": "execute_result"
    }
   ],
   "source": [
    "full_malware.shape"
   ]
  },
  {
   "cell_type": "code",
   "execution_count": 8,
   "metadata": {},
   "outputs": [
    {
     "data": {
      "text/plain": [
       "(340780, 84)"
      ]
     },
     "execution_count": 8,
     "metadata": {},
     "output_type": "execute_result"
    }
   ],
   "source": [
    "full_normal.shape"
   ]
  },
  {
   "cell_type": "code",
   "execution_count": 10,
   "metadata": {},
   "outputs": [],
   "source": [
    "a = full_malware.loc[(full_malware['Src Port'] == 443) | (full_malware['Dst Port'] == 443)]\n",
    "b = full_normal.loc[(full_normal['Src Port'] == 443) | (full_normal['Dst Port'] == 443)]"
   ]
  },
  {
   "cell_type": "code",
   "execution_count": 11,
   "metadata": {},
   "outputs": [
    {
     "data": {
      "text/plain": [
       "(18917, 84)"
      ]
     },
     "execution_count": 11,
     "metadata": {},
     "output_type": "execute_result"
    }
   ],
   "source": [
    "a.shape"
   ]
  },
  {
   "cell_type": "code",
   "execution_count": 12,
   "metadata": {},
   "outputs": [
    {
     "data": {
      "text/plain": [
       "(109455, 84)"
      ]
     },
     "execution_count": 12,
     "metadata": {},
     "output_type": "execute_result"
    }
   ],
   "source": [
    "b.shape"
   ]
  },
  {
   "cell_type": "code",
   "execution_count": 89,
   "metadata": {},
   "outputs": [
    {
     "name": "stderr",
     "output_type": "stream",
     "text": [
      "C:\\Users\\admin\\AppData\\Local\\Temp\\ipykernel_12420\\1866714354.py:2: SettingWithCopyWarning: \n",
      "A value is trying to be set on a copy of a slice from a DataFrame.\n",
      "Try using .loc[row_indexer,col_indexer] = value instead\n",
      "\n",
      "See the caveats in the documentation: https://pandas.pydata.org/pandas-docs/stable/user_guide/indexing.html#returning-a-view-versus-a-copy\n",
      "  a['Label'] = 1\n",
      "C:\\Users\\admin\\AppData\\Local\\Temp\\ipykernel_12420\\1866714354.py:4: SettingWithCopyWarning: \n",
      "A value is trying to be set on a copy of a slice from a DataFrame.\n",
      "Try using .loc[row_indexer,col_indexer] = value instead\n",
      "\n",
      "See the caveats in the documentation: https://pandas.pydata.org/pandas-docs/stable/user_guide/indexing.html#returning-a-view-versus-a-copy\n",
      "  b['Label'] = 0\n"
     ]
    }
   ],
   "source": [
    "a.drop(['Label'], axis = 1)\n",
    "a['Label'] = 1\n",
    "b.drop(['Label'], axis = 1)\n",
    "b['Label'] = 0"
   ]
  },
  {
   "cell_type": "code",
   "execution_count": null,
   "metadata": {},
   "outputs": [],
   "source": [
    "a.to_csv(path_or_buf = '../../CTU dataset/malware.csv', index=False)\n",
    "b.to_csv(path_or_buf = '../../CTU dataset/normal.csv', index=False)"
   ]
  }
 ],
 "metadata": {
  "kernelspec": {
   "display_name": "Python 3",
   "language": "python",
   "name": "python3"
  },
  "language_info": {
   "codemirror_mode": {
    "name": "ipython",
    "version": 3
   },
   "file_extension": ".py",
   "mimetype": "text/x-python",
   "name": "python",
   "nbconvert_exporter": "python",
   "pygments_lexer": "ipython3",
   "version": "3.11.3"
  },
  "orig_nbformat": 4
 },
 "nbformat": 4,
 "nbformat_minor": 2
}
