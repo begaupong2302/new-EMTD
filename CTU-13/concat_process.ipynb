{
 "cells": [
  {
   "cell_type": "code",
   "execution_count": 2,
   "metadata": {},
   "outputs": [
    {
     "name": "stdout",
     "output_type": "stream",
     "text": [
      "OK\n"
     ]
    }
   ],
   "source": [
    "import pandas as pd\n",
    "import os\n",
    "import numpy as np\n",
    "\n",
    "print('OK')"
   ]
  },
  {
   "cell_type": "code",
   "execution_count": 5,
   "metadata": {},
   "outputs": [
    {
     "name": "stdout",
     "output_type": "stream",
     "text": [
      "../../Dataset/CTU-13/csv/0\\2017-04-18_win-normal (1).pcap_Flow.csv\n",
      "../../Dataset/CTU-13/csv/0\\2017-04-19_win-normal (1).pcap_Flow.csv\n",
      "../../Dataset/CTU-13/csv/0\\2017-04-25_win-normal.pcap_Flow.csv\n",
      "../../Dataset/CTU-13/csv/0\\2017-05-01_normal (1).pcap_Flow.csv\n",
      "../../Dataset/CTU-13/csv/0\\2017-05-01_normal.pcap_Flow.csv\n",
      "../../Dataset/CTU-13/csv/0\\2017-05-02_normal.pcap_Flow.csv\n",
      "../../Dataset/CTU-13/csv/0\\2017_04_30-normal.pcap_Flow.csv\n",
      "../../Dataset/CTU-13/csv/0\\capture-new-Windows-7-Full.pcap_Flow.csv\n",
      "../Dataset/CTU-13/csv/0\\2017-04-18_win-normal (1).pcap_Flow.csv\n",
      "../Dataset/CTU-13/csv/0\\2017-04-19_win-normal (1).pcap_Flow.csv\n",
      "../Dataset/CTU-13/csv/0\\2017-04-25_win-normal.pcap_Flow.csv\n",
      "../Dataset/CTU-13/csv/0\\2017-05-01_normal (1).pcap_Flow.csv\n",
      "../Dataset/CTU-13/csv/0\\2017-05-01_normal.pcap_Flow.csv\n",
      "../Dataset/CTU-13/csv/0\\2017-05-02_normal.pcap_Flow.csv\n",
      "../Dataset/CTU-13/csv/0\\2017_04_30-normal.pcap_Flow.csv\n",
      "../Dataset/CTU-13/csv/0\\capture-new-Windows-7-Full.pcap_Flow.csv\n",
      "8\n"
     ]
    }
   ],
   "source": [
    "full_normal = None\n",
    "count = 0\n",
    "\n",
    "for dirname, _, filenames in os.walk('../../Dataset/CTU-13/csv/0'):\n",
    "    for filename in filenames:\n",
    "        data = pd.read_csv(os.path.join(dirname, filename))\n",
    "        full_normal = pd.concat([full_normal, data])\n",
    "        count+=1\n",
    "        print(os.path.join(dirname, filename))\n",
    "\n",
    "print(count)"
   ]
  },
  {
   "cell_type": "code",
   "execution_count": 6,
   "metadata": {},
   "outputs": [
    {
     "name": "stdout",
     "output_type": "stream",
     "text": [
      "../../Dataset/CTU-13/csv/1\\botnet-capture-20110810-neris.pcap_Flow.csv\n",
      "../../Dataset/CTU-13/csv/1\\botnet-capture-20110811-neris.pcap_Flow.csv\n",
      "../../Dataset/CTU-13/csv/1\\botnet-capture-20110812-rbot.pcap_Flow.csv\n",
      "../../Dataset/CTU-13/csv/1\\botnet-capture-20110815-fast-flux.pcap_Flow.csv\n",
      "../../Dataset/CTU-13/csv/1\\botnet-capture-20110815-rbot-dos.pcap_Flow.csv\n",
      "../../Dataset/CTU-13/csv/1\\botnet-capture-20110816-donbot.pcap_Flow.csv\n",
      "../../Dataset/CTU-13/csv/1\\botnet-capture-20110816-qvod.pcap_Flow.csv\n",
      "../../Dataset/CTU-13/csv/1\\botnet-capture-20110816-sogou.pcap_Flow.csv\n",
      "../../Dataset/CTU-13/csv/1\\botnet-capture-20110817-bot.pcap_Flow.csv\n",
      "../../Dataset/CTU-13/csv/1\\botnet-capture-20110818-bot-2.pcap_Flow.csv\n",
      "../../Dataset/CTU-13/csv/1\\botnet-capture-20110819-bot.pcap_Flow.csv\n",
      "../Dataset/CTU-13/csv/1\\botnet-capture-20110810-neris.pcap_Flow.csv\n",
      "../Dataset/CTU-13/csv/1\\botnet-capture-20110811-neris.pcap_Flow.csv\n",
      "../Dataset/CTU-13/csv/1\\botnet-capture-20110812-rbot.pcap_Flow.csv\n",
      "../Dataset/CTU-13/csv/1\\botnet-capture-20110815-fast-flux.pcap_Flow.csv\n",
      "../Dataset/CTU-13/csv/1\\botnet-capture-20110815-rbot-dos.pcap_Flow.csv\n",
      "../Dataset/CTU-13/csv/1\\botnet-capture-20110816-donbot.pcap_Flow.csv\n",
      "../Dataset/CTU-13/csv/1\\botnet-capture-20110816-qvod.pcap_Flow.csv\n",
      "../Dataset/CTU-13/csv/1\\botnet-capture-20110816-sogou.pcap_Flow.csv\n",
      "../Dataset/CTU-13/csv/1\\botnet-capture-20110817-bot.pcap_Flow.csv\n",
      "../Dataset/CTU-13/csv/1\\botnet-capture-20110818-bot-2.pcap_Flow.csv\n",
      "../Dataset/CTU-13/csv/1\\botnet-capture-20110819-bot.pcap_Flow.csv\n",
      "11\n"
     ]
    }
   ],
   "source": [
    "full_malware = None\n",
    "count = 0\n",
    "\n",
    "for dirname, _, filenames in os.walk('../../Dataset/CTU-13/csv/1'):\n",
    "    for filename in filenames:\n",
    "        data = pd.read_csv(os.path.join(dirname, filename))\n",
    "        full_malware = pd.concat([full_malware, data])\n",
    "        count+=1\n",
    "        print(os.path.join(dirname, filename))\n",
    "\n",
    "print(count)"
   ]
  },
  {
   "cell_type": "code",
   "execution_count": 6,
   "metadata": {},
   "outputs": [],
   "source": [
    "full_malware.to_csv(path_or_buf = '../../Dataset/CTU-13/malware.csv', index=False)\n",
    "full_normal.to_csv(path_or_buf = '../../Dataset/CTU-13/normal.csv', index=False)"
   ]
  },
  {
   "cell_type": "code",
   "execution_count": 7,
   "metadata": {},
   "outputs": [
    {
     "data": {
      "text/plain": [
       "(259503, 84)"
      ]
     },
     "execution_count": 7,
     "metadata": {},
     "output_type": "execute_result"
    }
   ],
   "source": [
    "full_malware.shape"
   ]
  },
  {
   "cell_type": "code",
   "execution_count": 8,
   "metadata": {},
   "outputs": [
    {
     "data": {
      "text/plain": [
       "(340780, 84)"
      ]
     },
     "execution_count": 8,
     "metadata": {},
     "output_type": "execute_result"
    }
   ],
   "source": [
    "full_normal.shape"
   ]
  },
  {
   "cell_type": "code",
   "execution_count": 10,
   "metadata": {},
   "outputs": [],
   "source": [
    "a = full_malware.loc[(full_malware['Src Port'] == 443) | (full_malware['Dst Port'] == 443)]\n",
    "b = full_normal.loc[(full_normal['Src Port'] == 443) | (full_normal['Dst Port'] == 443)]"
   ]
  },
  {
   "cell_type": "code",
   "execution_count": 11,
   "metadata": {},
   "outputs": [
    {
     "data": {
      "text/plain": [
       "(18917, 84)"
      ]
     },
     "execution_count": 11,
     "metadata": {},
     "output_type": "execute_result"
    }
   ],
   "source": [
    "a.shape"
   ]
  },
  {
   "cell_type": "code",
   "execution_count": 12,
   "metadata": {},
   "outputs": [
    {
     "data": {
      "text/plain": [
       "(109455, 84)"
      ]
     },
     "execution_count": 12,
     "metadata": {},
     "output_type": "execute_result"
    }
   ],
   "source": [
    "b.shape"
   ]
  },
  {
   "cell_type": "code",
   "execution_count": 89,
   "metadata": {},
   "outputs": [
    {
     "name": "stderr",
     "output_type": "stream",
     "text": [
      "C:\\Users\\admin\\AppData\\Local\\Temp\\ipykernel_7924\\2331738655.py:4: SettingWithCopyWarning: \n",
      "C:\\Users\\admin\\AppData\\Local\\Temp\\ipykernel_12420\\1866714354.py:2: SettingWithCopyWarning: \n",
      "A value is trying to be set on a copy of a slice from a DataFrame.\n",
      "Try using .loc[row_indexer,col_indexer] = value instead\n",
      "\n",
      "See the caveats in the documentation: https://pandas.pydata.org/pandas-docs/stable/user_guide/indexing.html#returning-a-view-versus-a-copy\n",
      "  malware['Label'] = 1\n",
      "C:\\Users\\admin\\AppData\\Local\\Temp\\ipykernel_7924\\2331738655.py:6: SettingWithCopyWarning: \n",
      "  a['Label'] = 1\n",
      "C:\\Users\\admin\\AppData\\Local\\Temp\\ipykernel_12420\\1866714354.py:4: SettingWithCopyWarning: \n",
      "A value is trying to be set on a copy of a slice from a DataFrame.\n",
      "Try using .loc[row_indexer,col_indexer] = value instead\n",
      "\n",
      "See the caveats in the documentation: https://pandas.pydata.org/pandas-docs/stable/user_guide/indexing.html#returning-a-view-versus-a-copy\n",
      "  normal['Label'] = 0\n"
     ]
    },
    {
     "data": {
      "text/html": [
       "<div>\n",
       "<style scoped>\n",
       "    .dataframe tbody tr th:only-of-type {\n",
       "        vertical-align: middle;\n",
       "    }\n",
       "\n",
       "    .dataframe tbody tr th {\n",
       "        vertical-align: top;\n",
       "    }\n",
       "\n",
       "    .dataframe thead th {\n",
       "        text-align: right;\n",
       "    }\n",
       "</style>\n",
       "<table border=\"1\" class=\"dataframe\">\n",
       "  <thead>\n",
       "    <tr style=\"text-align: right;\">\n",
       "      <th></th>\n",
       "      <th>Flow ID</th>\n",
       "      <th>Src IP</th>\n",
       "      <th>Src Port</th>\n",
       "      <th>Dst IP</th>\n",
       "      <th>Dst Port</th>\n",
       "      <th>Protocol</th>\n",
       "      <th>Timestamp</th>\n",
       "      <th>Flow Duration</th>\n",
       "      <th>Tot Fwd Pkts</th>\n",
       "      <th>Tot Bwd Pkts</th>\n",
       "      <th>...</th>\n",
       "      <th>Fwd Seg Size Min</th>\n",
       "      <th>Active Mean</th>\n",
       "      <th>Active Std</th>\n",
       "      <th>Active Max</th>\n",
       "      <th>Active Min</th>\n",
       "      <th>Idle Mean</th>\n",
       "      <th>Idle Std</th>\n",
       "      <th>Idle Max</th>\n",
       "      <th>Idle Min</th>\n",
       "      <th>Label</th>\n",
       "    </tr>\n",
       "  </thead>\n",
       "  <tbody>\n",
       "    <tr>\n",
       "      <th>113896</th>\n",
       "      <td>147.32.84.192-46.4.36.120-1512-443-6</td>\n",
       "      <td>147.32.84.192</td>\n",
       "      <td>1512</td>\n",
       "      <td>46.4.36.120</td>\n",
       "      <td>443</td>\n",
       "      <td>6</td>\n",
       "      <td>17/08/2011 08:38:41 PM</td>\n",
       "      <td>1032003</td>\n",
       "      <td>5</td>\n",
       "      <td>4</td>\n",
       "      <td>...</td>\n",
       "      <td>0</td>\n",
       "      <td>0.000000e+00</td>\n",
       "      <td>0.000000e+00</td>\n",
       "      <td>0.0</td>\n",
       "      <td>0.0</td>\n",
       "      <td>0.000000e+00</td>\n",
       "      <td>0.000000e+00</td>\n",
       "      <td>0.0</td>\n",
       "      <td>0.0</td>\n",
       "      <td>1</td>\n",
       "    </tr>\n",
       "    <tr>\n",
       "      <th>4494</th>\n",
       "      <td>10.0.2.15-104.244.42.195-50684-443-6</td>\n",
       "      <td>104.244.42.195</td>\n",
       "      <td>443</td>\n",
       "      <td>10.0.2.15</td>\n",
       "      <td>50684</td>\n",
       "      <td>6</td>\n",
       "      <td>01/01/1970 09:22:14 AM</td>\n",
       "      <td>22363</td>\n",
       "      <td>2</td>\n",
       "      <td>1</td>\n",
       "      <td>...</td>\n",
       "      <td>0</td>\n",
       "      <td>0.000000e+00</td>\n",
       "      <td>0.000000e+00</td>\n",
       "      <td>0.0</td>\n",
       "      <td>0.0</td>\n",
       "      <td>0.000000e+00</td>\n",
       "      <td>0.000000e+00</td>\n",
       "      <td>0.0</td>\n",
       "      <td>0.0</td>\n",
       "      <td>0</td>\n",
       "    </tr>\n",
       "    <tr>\n",
       "      <th>53723</th>\n",
       "      <td>10.0.2.15-54.80.0.149-59959-443-6</td>\n",
       "      <td>54.80.0.149</td>\n",
       "      <td>443</td>\n",
       "      <td>10.0.2.15</td>\n",
       "      <td>59959</td>\n",
       "      <td>6</td>\n",
       "      <td>01/01/1970 08:48:10 AM</td>\n",
       "      <td>143746</td>\n",
       "      <td>2</td>\n",
       "      <td>2</td>\n",
       "      <td>...</td>\n",
       "      <td>0</td>\n",
       "      <td>0.000000e+00</td>\n",
       "      <td>0.000000e+00</td>\n",
       "      <td>0.0</td>\n",
       "      <td>0.0</td>\n",
       "      <td>0.000000e+00</td>\n",
       "      <td>0.000000e+00</td>\n",
       "      <td>0.0</td>\n",
       "      <td>0.0</td>\n",
       "      <td>0</td>\n",
       "    </tr>\n",
       "    <tr>\n",
       "      <th>65904</th>\n",
       "      <td>2.22.109.92-10.0.2.15-443-56891-6</td>\n",
       "      <td>10.0.2.15</td>\n",
       "      <td>56891</td>\n",
       "      <td>2.22.109.92</td>\n",
       "      <td>443</td>\n",
       "      <td>6</td>\n",
       "      <td>01/01/1970 11:13:14 AM</td>\n",
       "      <td>117743736</td>\n",
       "      <td>93</td>\n",
       "      <td>271</td>\n",
       "      <td>...</td>\n",
       "      <td>0</td>\n",
       "      <td>1.542386e+06</td>\n",
       "      <td>3.281592e+06</td>\n",
       "      <td>10952308.0</td>\n",
       "      <td>664.0</td>\n",
       "      <td>9.161106e+06</td>\n",
       "      <td>1.469274e+06</td>\n",
       "      <td>10081852.0</td>\n",
       "      <td>5945825.0</td>\n",
       "      <td>0</td>\n",
       "    </tr>\n",
       "    <tr>\n",
       "      <th>29738</th>\n",
       "      <td>172.217.22.70-10.0.2.15-443-63651-6</td>\n",
       "      <td>172.217.22.70</td>\n",
       "      <td>443</td>\n",
       "      <td>10.0.2.15</td>\n",
       "      <td>63651</td>\n",
       "      <td>6</td>\n",
       "      <td>01/01/1970 10:16:12 AM</td>\n",
       "      <td>31663</td>\n",
       "      <td>2</td>\n",
       "      <td>1</td>\n",
       "      <td>...</td>\n",
       "      <td>0</td>\n",
       "      <td>0.000000e+00</td>\n",
       "      <td>0.000000e+00</td>\n",
       "      <td>0.0</td>\n",
       "      <td>0.0</td>\n",
       "      <td>0.000000e+00</td>\n",
       "      <td>0.000000e+00</td>\n",
       "      <td>0.0</td>\n",
       "      <td>0.0</td>\n",
       "      <td>0</td>\n",
       "    </tr>\n",
       "    <tr>\n",
       "      <th>79801</th>\n",
       "      <td>10.0.2.15-69.172.216.55-54123-443-6</td>\n",
       "      <td>10.0.2.15</td>\n",
       "      <td>54123</td>\n",
       "      <td>69.172.216.55</td>\n",
       "      <td>443</td>\n",
       "      <td>6</td>\n",
       "      <td>01/01/1970 11:05:20 AM</td>\n",
       "      <td>2582753</td>\n",
       "      <td>6</td>\n",
       "      <td>7</td>\n",
       "      <td>...</td>\n",
       "      <td>0</td>\n",
       "      <td>0.000000e+00</td>\n",
       "      <td>0.000000e+00</td>\n",
       "      <td>0.0</td>\n",
       "      <td>0.0</td>\n",
       "      <td>0.000000e+00</td>\n",
       "      <td>0.000000e+00</td>\n",
       "      <td>0.0</td>\n",
       "      <td>0.0</td>\n",
       "      <td>0</td>\n",
       "    </tr>\n",
       "    <tr>\n",
       "      <th>5244</th>\n",
       "      <td>192.28.146.120-10.0.2.15-443-57194-6</td>\n",
       "      <td>10.0.2.15</td>\n",
       "      <td>57194</td>\n",
       "      <td>192.28.146.120</td>\n",
       "      <td>443</td>\n",
       "      <td>6</td>\n",
       "      <td>01/01/1970 08:30:56 AM</td>\n",
       "      <td>31002</td>\n",
       "      <td>2</td>\n",
       "      <td>1</td>\n",
       "      <td>...</td>\n",
       "      <td>0</td>\n",
       "      <td>0.000000e+00</td>\n",
       "      <td>0.000000e+00</td>\n",
       "      <td>0.0</td>\n",
       "      <td>0.0</td>\n",
       "      <td>0.000000e+00</td>\n",
       "      <td>0.000000e+00</td>\n",
       "      <td>0.0</td>\n",
       "      <td>0.0</td>\n",
       "      <td>0</td>\n",
       "    </tr>\n",
       "    <tr>\n",
       "      <th>18810</th>\n",
       "      <td>147.32.84.165-46.4.36.120-4390-443-6</td>\n",
       "      <td>147.32.84.165</td>\n",
       "      <td>4390</td>\n",
       "      <td>46.4.36.120</td>\n",
       "      <td>443</td>\n",
       "      <td>6</td>\n",
       "      <td>11/08/2011 05:07:01 PM</td>\n",
       "      <td>14775294</td>\n",
       "      <td>14</td>\n",
       "      <td>16</td>\n",
       "      <td>...</td>\n",
       "      <td>0</td>\n",
       "      <td>0.000000e+00</td>\n",
       "      <td>0.000000e+00</td>\n",
       "      <td>0.0</td>\n",
       "      <td>0.0</td>\n",
       "      <td>0.000000e+00</td>\n",
       "      <td>0.000000e+00</td>\n",
       "      <td>0.0</td>\n",
       "      <td>0.0</td>\n",
       "      <td>1</td>\n",
       "    </tr>\n",
       "    <tr>\n",
       "      <th>16309</th>\n",
       "      <td>147.32.84.207-65.55.196.251-3938-443-6</td>\n",
       "      <td>147.32.84.207</td>\n",
       "      <td>3938</td>\n",
       "      <td>65.55.196.251</td>\n",
       "      <td>443</td>\n",
       "      <td>6</td>\n",
       "      <td>17/08/2011 08:42:59 PM</td>\n",
       "      <td>100346</td>\n",
       "      <td>0</td>\n",
       "      <td>3</td>\n",
       "      <td>...</td>\n",
       "      <td>0</td>\n",
       "      <td>0.000000e+00</td>\n",
       "      <td>0.000000e+00</td>\n",
       "      <td>0.0</td>\n",
       "      <td>0.0</td>\n",
       "      <td>0.000000e+00</td>\n",
       "      <td>0.000000e+00</td>\n",
       "      <td>0.0</td>\n",
       "      <td>0.0</td>\n",
       "      <td>1</td>\n",
       "    </tr>\n",
       "    <tr>\n",
       "      <th>16550</th>\n",
       "      <td>185.29.135.227-10.0.2.15-443-52497-6</td>\n",
       "      <td>10.0.2.15</td>\n",
       "      <td>52497</td>\n",
       "      <td>185.29.135.227</td>\n",
       "      <td>443</td>\n",
       "      <td>6</td>\n",
       "      <td>01/01/1970 09:21:27 AM</td>\n",
       "      <td>110248097</td>\n",
       "      <td>11</td>\n",
       "      <td>13</td>\n",
       "      <td>...</td>\n",
       "      <td>0</td>\n",
       "      <td>1.831273e+03</td>\n",
       "      <td>4.123128e+02</td>\n",
       "      <td>2834.0</td>\n",
       "      <td>1198.0</td>\n",
       "      <td>1.002052e+07</td>\n",
       "      <td>1.236552e+04</td>\n",
       "      <td>10049835.0</td>\n",
       "      <td>10007985.0</td>\n",
       "      <td>0</td>\n",
       "    </tr>\n",
       "  </tbody>\n",
       "</table>\n",
       "<p>10 rows × 84 columns</p>\n",
       "</div>"
      ],
      "text/plain": [
       "                                       Flow ID          Src IP  Src Port   \n",
       "113896    147.32.84.192-46.4.36.120-1512-443-6   147.32.84.192      1512  \\\n",
       "4494      10.0.2.15-104.244.42.195-50684-443-6  104.244.42.195       443   \n",
       "53723        10.0.2.15-54.80.0.149-59959-443-6     54.80.0.149       443   \n",
       "65904        2.22.109.92-10.0.2.15-443-56891-6       10.0.2.15     56891   \n",
       "29738      172.217.22.70-10.0.2.15-443-63651-6   172.217.22.70       443   \n",
       "79801      10.0.2.15-69.172.216.55-54123-443-6       10.0.2.15     54123   \n",
       "5244      192.28.146.120-10.0.2.15-443-57194-6       10.0.2.15     57194   \n",
       "18810     147.32.84.165-46.4.36.120-4390-443-6   147.32.84.165      4390   \n",
       "16309   147.32.84.207-65.55.196.251-3938-443-6   147.32.84.207      3938   \n",
       "16550     185.29.135.227-10.0.2.15-443-52497-6       10.0.2.15     52497   \n",
       "\n",
       "                Dst IP  Dst Port  Protocol               Timestamp   \n",
       "113896     46.4.36.120       443         6  17/08/2011 08:38:41 PM  \\\n",
       "4494         10.0.2.15     50684         6  01/01/1970 09:22:14 AM   \n",
       "53723        10.0.2.15     59959         6  01/01/1970 08:48:10 AM   \n",
       "65904      2.22.109.92       443         6  01/01/1970 11:13:14 AM   \n",
       "29738        10.0.2.15     63651         6  01/01/1970 10:16:12 AM   \n",
       "79801    69.172.216.55       443         6  01/01/1970 11:05:20 AM   \n",
       "5244    192.28.146.120       443         6  01/01/1970 08:30:56 AM   \n",
       "18810      46.4.36.120       443         6  11/08/2011 05:07:01 PM   \n",
       "16309    65.55.196.251       443         6  17/08/2011 08:42:59 PM   \n",
       "16550   185.29.135.227       443         6  01/01/1970 09:21:27 AM   \n",
       "\n",
       "        Flow Duration  Tot Fwd Pkts  Tot Bwd Pkts  ...  Fwd Seg Size Min   \n",
       "113896        1032003             5             4  ...                 0  \\\n",
       "4494            22363             2             1  ...                 0   \n",
       "53723          143746             2             2  ...                 0   \n",
       "65904       117743736            93           271  ...                 0   \n",
       "29738           31663             2             1  ...                 0   \n",
       "79801         2582753             6             7  ...                 0   \n",
       "5244            31002             2             1  ...                 0   \n",
       "18810        14775294            14            16  ...                 0   \n",
       "16309          100346             0             3  ...                 0   \n",
       "16550       110248097            11            13  ...                 0   \n",
       "\n",
       "         Active Mean    Active Std  Active Max  Active Min     Idle Mean   \n",
       "113896  0.000000e+00  0.000000e+00         0.0         0.0  0.000000e+00  \\\n",
       "4494    0.000000e+00  0.000000e+00         0.0         0.0  0.000000e+00   \n",
       "53723   0.000000e+00  0.000000e+00         0.0         0.0  0.000000e+00   \n",
       "65904   1.542386e+06  3.281592e+06  10952308.0       664.0  9.161106e+06   \n",
       "29738   0.000000e+00  0.000000e+00         0.0         0.0  0.000000e+00   \n",
       "79801   0.000000e+00  0.000000e+00         0.0         0.0  0.000000e+00   \n",
       "5244    0.000000e+00  0.000000e+00         0.0         0.0  0.000000e+00   \n",
       "18810   0.000000e+00  0.000000e+00         0.0         0.0  0.000000e+00   \n",
       "16309   0.000000e+00  0.000000e+00         0.0         0.0  0.000000e+00   \n",
       "16550   1.831273e+03  4.123128e+02      2834.0      1198.0  1.002052e+07   \n",
       "\n",
       "            Idle Std    Idle Max    Idle Min  Label  \n",
       "113896  0.000000e+00         0.0         0.0      1  \n",
       "4494    0.000000e+00         0.0         0.0      0  \n",
       "53723   0.000000e+00         0.0         0.0      0  \n",
       "65904   1.469274e+06  10081852.0   5945825.0      0  \n",
       "29738   0.000000e+00         0.0         0.0      0  \n",
       "79801   0.000000e+00         0.0         0.0      0  \n",
       "5244    0.000000e+00         0.0         0.0      0  \n",
       "18810   0.000000e+00         0.0         0.0      1  \n",
       "16309   0.000000e+00         0.0         0.0      1  \n",
       "16550   1.236552e+04  10049835.0  10007985.0      0  \n",
       "\n",
       "[10 rows x 84 columns]"
      ]
     },
     "execution_count": 5,
     "metadata": {},
     "output_type": "execute_result"
    }
   ],
   "source": [
    "malware = full_malware.loc[(full_malware['Src Port'] == 443) | (full_malware['Dst Port'] == 443)]\n",
    "normal = full_normal.loc[(full_normal['Src Port'] == 443) | (full_normal['Dst Port'] == 443)]\n",
    "malware.drop(['Label'], axis = 1)\n",
    "malware['Label'] = 1\n",
    "normal.drop(['Label'], axis = 1)\n",
    "normal['Label'] = 0\n",
    "df = pd.concat([malware, normal])\n",
    "df = df.sample(frac=1, replace=False, random_state=27)\n",
    "df.head(10)"
   ]
  },
  {
   "cell_type": "code",
   "execution_count": 24,
   "metadata": {},
   "outputs": [],
   "source": [
    "df_cp = df.copy()"
   ]
  },
  {
   "cell_type": "code",
   "execution_count": 25,
   "metadata": {},
   "outputs": [
    {
     "name": "stdout",
     "output_type": "stream",
     "text": [
      "dataset shape (128372, 84)\n",
      "zero variance columns ['Fwd PSH Flags', 'Fwd URG Flags', 'Bwd URG Flags', 'URG Flag Cnt', 'CWE Flag Count', 'ECE Flag Cnt', 'Fwd Byts/b Avg', 'Fwd Pkts/b Avg', 'Fwd Blk Rate Avg', 'Bwd Byts/b Avg', 'Bwd Pkts/b Avg', 'Bwd Blk Rate Avg', 'Init Fwd Win Byts', 'Fwd Seg Size Min'] dropped\n",
      "shape after removing zero variance columns: (128372, 70)\n",
      "29 rows dropped\n",
      "shape after removing nan: (128343, 70)\n",
      "shape after dropping duplicates: (128343, 70)\n",
      "columns which have identical values [('Tot Fwd Pkts', 'Subflow Fwd Pkts'), ('Tot Bwd Pkts', 'Subflow Bwd Pkts'), ('Bwd PSH Flags', 'PSH Flag Cnt')] dropped\n",
      "shape after removing identical value columns: (128343, 67)\n"
     ]
    }
   ],
   "source": [
    "def clean_df(df):\n",
    "    # Remove the space before each feature names\n",
    "    df.columns = df.columns.str.strip()\n",
    "    print('dataset shape', df.shape)\n",
    "\n",
    "    # This set of feature should have >= 0 values\n",
    "    num = df._get_numeric_data()\n",
    "    num[num < 0] = 0\n",
    "\n",
    "    zero_variance_cols = []\n",
    "    for col in df.columns:\n",
    "        if len(df[col].unique()) == 1:\n",
    "            zero_variance_cols.append(col)\n",
    "    df.drop(zero_variance_cols, axis = 1, inplace = True)\n",
    "    print('zero variance columns', zero_variance_cols, 'dropped')\n",
    "    print('shape after removing zero variance columns:', df.shape)\n",
    "\n",
    "    df.replace([np.inf, -np.inf], np.nan, inplace = True)\n",
    "    print(df.isna().any(axis = 1).sum(), 'rows dropped')\n",
    "    df.dropna(inplace = True)\n",
    "    print('shape after removing nan:', df.shape)\n",
    "\n",
    "    # Drop duplicate rows\n",
    "    df.drop_duplicates(inplace = True)\n",
    "    print('shape after dropping duplicates:', df.shape)\n",
    "\n",
    "    column_pairs = [(i, j) for i, j in combinations(df, 2) if df[i].equals(df[j])]\n",
    "    ide_cols = []\n",
    "    for column_pair in column_pairs:\n",
    "        ide_cols.append(column_pair[1])\n",
    "    df.drop(ide_cols, axis = 1, inplace = True)\n",
    "    print('columns which have identical values', column_pairs, 'dropped')\n",
    "    print('shape after removing identical value columns:', df.shape)\n",
    "    return df\n",
    "df_cp = clean_df(df_cp)"
   ]
  },
  {
   "cell_type": "code",
   "execution_count": 26,
   "metadata": {},
   "outputs": [
    {
     "data": {
      "text/plain": [
       "Label\n",
       "0    109426\n",
       "1     18917\n",
       "Name: count, dtype: int64"
      ]
     },
     "execution_count": 26,
     "metadata": {},
     "output_type": "execute_result"
    }
   ],
   "source": [
    "df_cp.Label.value_counts()"
   ]
  },
  {
   "cell_type": "code",
   "execution_count": 27,
   "metadata": {},
   "outputs": [],
   "source": [
    "drop_columns = ['Flow ID', 'Src IP', 'Src Port', 'Dst IP', 'Dst Port', 'Timestamp']\n",
    "df_cp = df_cp.drop(drop_columns, axis=1)"
   ]
  },
  {
   "cell_type": "code",
   "execution_count": 28,
   "metadata": {},
   "outputs": [],
   "source": [
    "features = ['Flow Duration', 'Flow IAT Max', 'Flow Pkts/s', 'Flow IAT Mean', 'Fwd Pkts/s', 'Bwd Pkts/s']\n",
    "X = pd.get_dummies(df_cp[features])\n",
    "# X = df_test.drop(['Label'], axis=1)\n",
    "y = df_cp.Label"
   ]
  },
  {
   "cell_type": "code",
   "execution_count": 29,
   "metadata": {},
   "outputs": [],
   "source": [
    "from sklearn.preprocessing import StandardScaler\n",
    "\n",
    "scaler = StandardScaler()\n",
    "X = scaler.fit_transform(X)"
   ]
  },
  {
   "cell_type": "code",
   "execution_count": 30,
   "metadata": {},
   "outputs": [],
   "source": [
    "from sklearn.model_selection import train_test_split\n",
    "\n",
    "X_train, X_test, y_train, y_test = train_test_split(X, y, shuffle = True, stratify = y, random_state = 0, test_size = 0.3)"
   ]
  },
  {
   "cell_type": "code",
   "execution_count": 31,
   "metadata": {},
   "outputs": [],
   "source": [
    "from sklearn.ensemble import RandomForestClassifier\n",
    "from sklearn.metrics import mean_absolute_error\n",
    "from lightgbm import LGBMClassifier\n",
    "from sklearn.metrics import accuracy_score, precision_score, recall_score, roc_auc_score\n",
    "from xgboost import XGBClassifier\n",
    "import xgboost as xgb\n",
    "from sklearn import svm"
   ]
  },
  {
   "cell_type": "code",
   "execution_count": 32,
   "metadata": {},
   "outputs": [
    {
     "data": {
      "text/html": [
       "<style>#sk-container-id-2 {color: black;background-color: white;}#sk-container-id-2 pre{padding: 0;}#sk-container-id-2 div.sk-toggleable {background-color: white;}#sk-container-id-2 label.sk-toggleable__label {cursor: pointer;display: block;width: 100%;margin-bottom: 0;padding: 0.3em;box-sizing: border-box;text-align: center;}#sk-container-id-2 label.sk-toggleable__label-arrow:before {content: \"▸\";float: left;margin-right: 0.25em;color: #696969;}#sk-container-id-2 label.sk-toggleable__label-arrow:hover:before {color: black;}#sk-container-id-2 div.sk-estimator:hover label.sk-toggleable__label-arrow:before {color: black;}#sk-container-id-2 div.sk-toggleable__content {max-height: 0;max-width: 0;overflow: hidden;text-align: left;background-color: #f0f8ff;}#sk-container-id-2 div.sk-toggleable__content pre {margin: 0.2em;color: black;border-radius: 0.25em;background-color: #f0f8ff;}#sk-container-id-2 input.sk-toggleable__control:checked~div.sk-toggleable__content {max-height: 200px;max-width: 100%;overflow: auto;}#sk-container-id-2 input.sk-toggleable__control:checked~label.sk-toggleable__label-arrow:before {content: \"▾\";}#sk-container-id-2 div.sk-estimator input.sk-toggleable__control:checked~label.sk-toggleable__label {background-color: #d4ebff;}#sk-container-id-2 div.sk-label input.sk-toggleable__control:checked~label.sk-toggleable__label {background-color: #d4ebff;}#sk-container-id-2 input.sk-hidden--visually {border: 0;clip: rect(1px 1px 1px 1px);clip: rect(1px, 1px, 1px, 1px);height: 1px;margin: -1px;overflow: hidden;padding: 0;position: absolute;width: 1px;}#sk-container-id-2 div.sk-estimator {font-family: monospace;background-color: #f0f8ff;border: 1px dotted black;border-radius: 0.25em;box-sizing: border-box;margin-bottom: 0.5em;}#sk-container-id-2 div.sk-estimator:hover {background-color: #d4ebff;}#sk-container-id-2 div.sk-parallel-item::after {content: \"\";width: 100%;border-bottom: 1px solid gray;flex-grow: 1;}#sk-container-id-2 div.sk-label:hover label.sk-toggleable__label {background-color: #d4ebff;}#sk-container-id-2 div.sk-serial::before {content: \"\";position: absolute;border-left: 1px solid gray;box-sizing: border-box;top: 0;bottom: 0;left: 50%;z-index: 0;}#sk-container-id-2 div.sk-serial {display: flex;flex-direction: column;align-items: center;background-color: white;padding-right: 0.2em;padding-left: 0.2em;position: relative;}#sk-container-id-2 div.sk-item {position: relative;z-index: 1;}#sk-container-id-2 div.sk-parallel {display: flex;align-items: stretch;justify-content: center;background-color: white;position: relative;}#sk-container-id-2 div.sk-item::before, #sk-container-id-2 div.sk-parallel-item::before {content: \"\";position: absolute;border-left: 1px solid gray;box-sizing: border-box;top: 0;bottom: 0;left: 50%;z-index: -1;}#sk-container-id-2 div.sk-parallel-item {display: flex;flex-direction: column;z-index: 1;position: relative;background-color: white;}#sk-container-id-2 div.sk-parallel-item:first-child::after {align-self: flex-end;width: 50%;}#sk-container-id-2 div.sk-parallel-item:last-child::after {align-self: flex-start;width: 50%;}#sk-container-id-2 div.sk-parallel-item:only-child::after {width: 0;}#sk-container-id-2 div.sk-dashed-wrapped {border: 1px dashed gray;margin: 0 0.4em 0.5em 0.4em;box-sizing: border-box;padding-bottom: 0.4em;background-color: white;}#sk-container-id-2 div.sk-label label {font-family: monospace;font-weight: bold;display: inline-block;line-height: 1.2em;}#sk-container-id-2 div.sk-label-container {text-align: center;}#sk-container-id-2 div.sk-container {/* jupyter's `normalize.less` sets `[hidden] { display: none; }` but bootstrap.min.css set `[hidden] { display: none !important; }` so we also need the `!important` here to be able to override the default hidden behavior on the sphinx rendered scikit-learn.org. See: https://github.com/scikit-learn/scikit-learn/issues/21755 */display: inline-block !important;position: relative;}#sk-container-id-2 div.sk-text-repr-fallback {display: none;}</style><div id=\"sk-container-id-2\" class=\"sk-top-container\"><div class=\"sk-text-repr-fallback\"><pre>RandomForestClassifier(random_state=27)</pre><b>In a Jupyter environment, please rerun this cell to show the HTML representation or trust the notebook. <br />On GitHub, the HTML representation is unable to render, please try loading this page with nbviewer.org.</b></div><div class=\"sk-container\" hidden><div class=\"sk-item\"><div class=\"sk-estimator sk-toggleable\"><input class=\"sk-toggleable__control sk-hidden--visually\" id=\"sk-estimator-id-2\" type=\"checkbox\" checked><label for=\"sk-estimator-id-2\" class=\"sk-toggleable__label sk-toggleable__label-arrow\">RandomForestClassifier</label><div class=\"sk-toggleable__content\"><pre>RandomForestClassifier(random_state=27)</pre></div></div></div></div></div>"
      ],
      "text/plain": [
       "RandomForestClassifier(random_state=27)"
      ]
     },
     "execution_count": 32,
     "metadata": {},
     "output_type": "execute_result"
    }
   ],
   "source": [
    "model = RandomForestClassifier(random_state=27)\n",
    "model.fit(X_train, y_train)"
   ]
  },
  {
   "cell_type": "code",
   "execution_count": 33,
   "metadata": {},
   "outputs": [
    {
     "name": "stdout",
     "output_type": "stream",
     "text": [
      "0.9954808716203932\n",
      "0.9923035618399857\n",
      "0.9769162995594713\n",
      "0.9878032210603498\n"
     ]
    }
   ],
   "source": [
    "from sklearn import metrics\n",
    "\n",
    "preds_val = model.predict(X_test)\n",
    "accuracy = accuracy_score(y_test, preds_val)\n",
    "precision = precision_score(y_test, preds_val)\n",
    "recall = recall_score(y_test, preds_val)\n",
    "roc_auc = roc_auc_score(y_test, preds_val)\n",
    "\n",
    "print(accuracy)\n",
    "print(precision)\n",
    "print(recall)\n",
    "print(roc_auc)"
   ]
  },
  {
   "cell_type": "code",
   "execution_count": 34,
   "metadata": {},
   "outputs": [],
   "source": [
    "features = ['Flow Duration', 'Flow IAT Max', 'Flow Pkts/s', 'Flow IAT Mean', 'Fwd Pkts/s', 'Bwd Pkts/s']\n",
    "X = pd.get_dummies(df_cp[features])\n",
    "# X = df_test.drop(['Label'], axis=1)\n",
    "y = df_cp.Label"
   ]
  },
  {
   "cell_type": "code",
   "execution_count": 39,
   "metadata": {},
   "outputs": [
    {
     "name": "stdout",
     "output_type": "stream",
     "text": [
      "0.9938892042608608\n",
      "Confusion matrix:\n",
      " [[76493   106]\n",
      " [  443 12799]]\n",
      "Classification report:\n",
      "               precision    recall  f1-score   support\n",
      "\n",
      "           0       0.99      1.00      1.00     76599\n",
      "           1       0.99      0.97      0.98     13242\n",
      "\n",
      "    accuracy                           0.99     89841\n",
      "   macro avg       0.99      0.98      0.99     89841\n",
      "weighted avg       0.99      0.99      0.99     89841\n",
      "\n"
     ]
    }
   ],
   "source": [
    "scaler = StandardScaler()\n",
    "X = scaler.fit_transform(X)\n",
    "\n",
    "X_train, X_test, y_train, y_test = train_test_split(X, y, shuffle = True, stratify = y, random_state = 0, test_size = 0.7)\n",
    "model2 = xgb.XGBClassifier(n_estimators=1000, max_depth=3, gamma=0.1, min_child_weight=5)\n",
    "model2.fit(X_train, y_train)\n",
    "preds_val = model2.predict(X_test)\n",
    "classification = metrics.classification_report(y_test, preds_val)\n",
    "confusion_matrix = metrics.confusion_matrix(y_test, preds_val)\n",
    "print(accuracy_score(y_test, preds_val))\n",
    "print(\"Confusion matrix:\" \"\\n\", confusion_matrix)\n",
    "print(\"Classification report:\" \"\\n\", classification) "
   ]
  },
  {
   "cell_type": "code",
   "execution_count": 40,
   "metadata": {},
   "outputs": [
    {
     "name": "stdout",
     "output_type": "stream",
     "text": [
      "0.9938892042608608\n",
      "0.9917861294072066\n",
      "0.9665458389971303\n",
      "0.9825810044605099\n"
     ]
    }
   ],
   "source": [
    "preds_val = model2.predict(X_test)\n",
    "\n",
    "accuracy = accuracy_score(y_test, preds_val)\n",
    "precision = precision_score(y_test, preds_val)\n",
    "recall = recall_score(y_test, preds_val)\n",
    "roc_auc = roc_auc_score(y_test, preds_val)\n",
    "\n",
    "print(accuracy)\n",
    "print(precision)\n",
    "print(recall)\n",
    "print(roc_auc)"
   ]
  },
  {
   "cell_type": "code",
   "execution_count": 37,
   "metadata": {},
   "outputs": [
    {
     "name": "stdout",
     "output_type": "stream",
     "text": [
      "0.9938892042608608\n",
      "Confusion matrix:\n",
      " [[76493   106]\n",
      " [  443 12799]]\n",
      "Classification report:\n",
      "               precision    recall  f1-score   support\n",
      "\n",
      "           0       0.99      1.00      1.00     76599\n",
      "           1       0.99      0.97      0.98     13242\n",
      "\n",
      "    accuracy                           0.99     89841\n",
      "   macro avg       0.99      0.98      0.99     89841\n",
      "weighted avg       0.99      0.99      0.99     89841\n",
      "\n"
     ]
    }
   ],
   "source": [
    "X_train, X_test, y_train, y_test = train_test_split(X, y, shuffle = True, stratify = y, random_state = 0, test_size = 0.7)\n",
    "\n",
    "model3 = svm.SVC(kernel='rbf', C=110, gamma=0.1)\n",
    "\n",
    "model3.fit(X_train, y_train)\n",
    "preds_val = model2.predict(X_test)\n",
    "classification = metrics.classification_report(y_test, preds_val)\n",
    "confusion_matrix = metrics.confusion_matrix(y_test, preds_val)\n",
    "print(accuracy_score(y_test, preds_val))\n",
    "print(\"Confusion matrix:\" \"\\n\", confusion_matrix)\n",
    "print(\"Classification report:\" \"\\n\", classification) "
   ]
  },
  {
   "cell_type": "code",
   "execution_count": 38,
   "metadata": {},
   "outputs": [
    {
     "name": "stdout",
     "output_type": "stream",
     "text": [
      "0.9938892042608608\n",
      "0.9917861294072066\n",
      "0.9665458389971303\n",
      "0.9825810044605099\n"
     ]
    }
   ],
   "source": [
    "accuracy = accuracy_score(y_test, preds_val)\n",
    "precision = precision_score(y_test, preds_val)\n",
    "recall = recall_score(y_test, preds_val)\n",
    "roc_auc = roc_auc_score(y_test, preds_val)\n",
    "\n",
    "print(accuracy)\n",
    "print(precision)\n",
    "print(recall)\n",
    "print(roc_auc)"
   ]
  }
 ],
 "metadata": {
  "kernelspec": {
   "display_name": "Python 3",
   "language": "python",
   "name": "python3"
  },
  "language_info": {
   "codemirror_mode": {
    "name": "ipython",
    "version": 3
   },
   "file_extension": ".py",
   "mimetype": "text/x-python",
   "name": "python",
   "nbconvert_exporter": "python",
   "pygments_lexer": "ipython3",
   "version": "3.11.3"
  },
  "orig_nbformat": 4
 },
 "nbformat": 4,
 "nbformat_minor": 2
}
