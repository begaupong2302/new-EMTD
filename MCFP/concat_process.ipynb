{
 "cells": [
  {
   "cell_type": "code",
   "execution_count": 1,
   "metadata": {},
   "outputs": [
    {
     "name": "stdout",
     "output_type": "stream",
     "text": [
      "OK\n"
     ]
    }
   ],
   "source": [
    "import pandas as pd\n",
    "import os\n",
    "import numpy as np\n",
    "\n",
    "print('OK')"
   ]
  },
  {
   "cell_type": "code",
   "execution_count": 3,
   "metadata": {},
   "outputs": [
    {
     "name": "stdout",
     "output_type": "stream",
     "text": [
      "../../CTU dataset/csv/Normal\\2017-04-18_win-normal.pcap_Flow.csv\n",
      "../../CTU dataset/csv/Normal\\2017-04-19_win-normal.pcap_Flow.csv\n",
      "../../CTU dataset/csv/Normal\\2017-04-25_win-normal.pcap_Flow.csv\n",
      "../../CTU dataset/csv/Normal\\2017-04-28_normal.pcap_Flow.csv\n",
      "../../CTU dataset/csv/Normal\\2017-05-01_normal (1).pcap_Flow.csv\n",
      "../../CTU dataset/csv/Normal\\2017-05-01_normal (2).pcap_Flow.csv\n",
      "../../CTU dataset/csv/Normal\\2017-05-01_normal (3).pcap_Flow.csv\n",
      "../../CTU dataset/csv/Normal\\2017-05-01_normal.pcap_Flow.csv\n",
      "../../CTU dataset/csv/Normal\\2017-05-02_normal.pcap_Flow.csv\n",
      "../../CTU dataset/csv/Normal\\2017_04_30-normal.pcap_Flow.csv\n",
      "10\n"
     ]
    }
   ],
   "source": [
    "full_normal = None\n",
    "count = 0\n",
    "\n",
    "for dirname, _, filenames in os.walk('../../CTU dataset/csv/Normal'):\n",
    "    for filename in filenames:\n",
    "        data = pd.read_csv(os.path.join(dirname, filename))\n",
    "        full_normal = pd.concat([full_normal, data])\n",
    "        count+=1\n",
    "        print(os.path.join(dirname, filename))\n",
    "\n",
    "print(count)"
   ]
  },
  {
   "cell_type": "code",
   "execution_count": 5,
   "metadata": {},
   "outputs": [
    {
     "name": "stdout",
     "output_type": "stream",
     "text": [
      "../../CTU dataset/csv/Malware\\2018-01-29_win6.pcap_Flow.csv\n",
      "../../CTU dataset/csv/Malware\\2018-01-30_win10.pcap_Flow.csv\n",
      "../../CTU dataset/csv/Malware\\2018-03-01_win9.pcap_Flow.csv\n",
      "../../CTU dataset/csv/Malware\\2018-03-27_win3.capture1.pcap_Flow.csv\n",
      "../../CTU dataset/csv/Malware\\2018-04-03_win12.pcap_Flow.csv\n",
      "../../CTU dataset/csv/Malware\\2018-04-04_win20.pcap_Flow.csv\n",
      "6\n"
     ]
    }
   ],
   "source": [
    "full_malware = None\n",
    "count = 0\n",
    "\n",
    "for dirname, _, filenames in os.walk('../../CTU dataset/csv/Malware'):\n",
    "    for filename in filenames:\n",
    "        data = pd.read_csv(os.path.join(dirname, filename))\n",
    "        full_malware = pd.concat([full_malware, data])\n",
    "        count+=1\n",
    "        print(os.path.join(dirname, filename))\n",
    "\n",
    "print(count)"
   ]
  },
  {
   "cell_type": "code",
   "execution_count": 66,
   "metadata": {},
   "outputs": [],
   "source": [
    "# a1 = '../../CTU dataset/csv/Malware/2017-08-01_capture-win5.pcap_Flow.csv'\n",
    "# a2 = '../../CTU dataset/csv/Malware/2017-08-14_win3.pcap_Flow.csv'\n",
    "# full_malware = pd.concat([pd.read_csv(a1), pd.read_csv(a2)])\n",
    "# x1 = pd.read_csv(a2)"
   ]
  },
  {
   "cell_type": "code",
   "execution_count": 67,
   "metadata": {},
   "outputs": [
    {
     "data": {
      "text/plain": [
       "(501748, 84)"
      ]
     },
     "execution_count": 67,
     "metadata": {},
     "output_type": "execute_result"
    }
   ],
   "source": [
    "full_malware.shape"
   ]
  },
  {
   "cell_type": "code",
   "execution_count": 64,
   "metadata": {},
   "outputs": [
    {
     "data": {
      "text/plain": [
       "(748837, 84)"
      ]
     },
     "execution_count": 64,
     "metadata": {},
     "output_type": "execute_result"
    }
   ],
   "source": [
    "full_normal.shape"
   ]
  },
  {
   "cell_type": "code",
   "execution_count": 50,
   "metadata": {},
   "outputs": [
    {
     "data": {
      "text/plain": [
       "Index(['Flow ID', 'Src IP', 'Src Port', 'Dst IP', 'Dst Port', 'Protocol',\n",
       "       'Timestamp', 'Flow Duration', 'Tot Fwd Pkts', 'Tot Bwd Pkts',\n",
       "       'TotLen Fwd Pkts', 'TotLen Bwd Pkts', 'Fwd Pkt Len Max',\n",
       "       'Fwd Pkt Len Min', 'Fwd Pkt Len Mean', 'Fwd Pkt Len Std',\n",
       "       'Bwd Pkt Len Max', 'Bwd Pkt Len Min', 'Bwd Pkt Len Mean',\n",
       "       'Bwd Pkt Len Std', 'Flow Byts/s', 'Flow Pkts/s', 'Flow IAT Mean',\n",
       "       'Flow IAT Std', 'Flow IAT Max', 'Flow IAT Min', 'Fwd IAT Tot',\n",
       "       'Fwd IAT Mean', 'Fwd IAT Std', 'Fwd IAT Max', 'Fwd IAT Min',\n",
       "       'Bwd IAT Tot', 'Bwd IAT Mean', 'Bwd IAT Std', 'Bwd IAT Max',\n",
       "       'Bwd IAT Min', 'Fwd PSH Flags', 'Bwd PSH Flags', 'Fwd URG Flags',\n",
       "       'Bwd URG Flags', 'Fwd Header Len', 'Bwd Header Len', 'Fwd Pkts/s',\n",
       "       'Bwd Pkts/s', 'Pkt Len Min', 'Pkt Len Max', 'Pkt Len Mean',\n",
       "       'Pkt Len Std', 'Pkt Len Var', 'FIN Flag Cnt', 'SYN Flag Cnt',\n",
       "       'RST Flag Cnt', 'PSH Flag Cnt', 'ACK Flag Cnt', 'URG Flag Cnt',\n",
       "       'CWE Flag Count', 'ECE Flag Cnt', 'Down/Up Ratio', 'Pkt Size Avg',\n",
       "       'Fwd Seg Size Avg', 'Bwd Seg Size Avg', 'Fwd Byts/b Avg',\n",
       "       'Fwd Pkts/b Avg', 'Fwd Blk Rate Avg', 'Bwd Byts/b Avg',\n",
       "       'Bwd Pkts/b Avg', 'Bwd Blk Rate Avg', 'Subflow Fwd Pkts',\n",
       "       'Subflow Fwd Byts', 'Subflow Bwd Pkts', 'Subflow Bwd Byts',\n",
       "       'Init Fwd Win Byts', 'Init Bwd Win Byts', 'Fwd Act Data Pkts',\n",
       "       'Fwd Seg Size Min', 'Active Mean', 'Active Std', 'Active Max',\n",
       "       'Active Min', 'Idle Mean', 'Idle Std', 'Idle Max', 'Idle Min', 'Label'],\n",
       "      dtype='object')"
      ]
     },
     "execution_count": 50,
     "metadata": {},
     "output_type": "execute_result"
    }
   ],
   "source": [
    "full_malware.columns"
   ]
  },
  {
   "cell_type": "code",
   "execution_count": 85,
   "metadata": {},
   "outputs": [],
   "source": [
    "a = full_malware.loc[(full_malware['Src Port'] == 443) | (full_malware['Dst Port'] == 443)]\n",
    "b = full_normal.loc[(full_normal['Src Port'] == 443) | (full_normal['Dst Port'] == 443)]"
   ]
  },
  {
   "cell_type": "code",
   "execution_count": 89,
   "metadata": {},
   "outputs": [
    {
     "name": "stderr",
     "output_type": "stream",
     "text": [
      "C:\\Users\\admin\\AppData\\Local\\Temp\\ipykernel_12420\\1866714354.py:2: SettingWithCopyWarning: \n",
      "A value is trying to be set on a copy of a slice from a DataFrame.\n",
      "Try using .loc[row_indexer,col_indexer] = value instead\n",
      "\n",
      "See the caveats in the documentation: https://pandas.pydata.org/pandas-docs/stable/user_guide/indexing.html#returning-a-view-versus-a-copy\n",
      "  a['Label'] = 1\n",
      "C:\\Users\\admin\\AppData\\Local\\Temp\\ipykernel_12420\\1866714354.py:4: SettingWithCopyWarning: \n",
      "A value is trying to be set on a copy of a slice from a DataFrame.\n",
      "Try using .loc[row_indexer,col_indexer] = value instead\n",
      "\n",
      "See the caveats in the documentation: https://pandas.pydata.org/pandas-docs/stable/user_guide/indexing.html#returning-a-view-versus-a-copy\n",
      "  b['Label'] = 0\n"
     ]
    }
   ],
   "source": [
    "a.drop(['Label'], axis = 1)\n",
    "a['Label'] = 1\n",
    "b.drop(['Label'], axis = 1)\n",
    "b['Label'] = 0"
   ]
  },
  {
   "cell_type": "code",
   "execution_count": null,
   "metadata": {},
   "outputs": [],
   "source": [
    "a.to_csv(path_or_buf = '../../CTU dataset/malware.csv', index=False)\n",
    "b.to_csv(path_or_buf = '../../CTU dataset/normal.csv', index=False)"
   ]
  }
 ],
 "metadata": {
  "kernelspec": {
   "display_name": "Python 3",
   "language": "python",
   "name": "python3"
  },
  "language_info": {
   "codemirror_mode": {
    "name": "ipython",
    "version": 3
   },
   "file_extension": ".py",
   "mimetype": "text/x-python",
   "name": "python",
   "nbconvert_exporter": "python",
   "pygments_lexer": "ipython3",
   "version": "3.11.3"
  },
  "orig_nbformat": 4
 },
 "nbformat": 4,
 "nbformat_minor": 2
}
