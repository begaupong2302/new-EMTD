{
 "cells": [
  {
   "cell_type": "code",
   "execution_count": 3,
   "metadata": {},
   "outputs": [],
   "source": [
    "import pandas as pd\n",
    "import numpy as np\n",
    "from itertools import combinations, product"
   ]
  },
  {
   "cell_type": "code",
   "execution_count": 4,
   "metadata": {},
   "outputs": [
    {
     "data": {
      "text/html": [
       "<div>\n",
       "<style scoped>\n",
       "    .dataframe tbody tr th:only-of-type {\n",
       "        vertical-align: middle;\n",
       "    }\n",
       "\n",
       "    .dataframe tbody tr th {\n",
       "        vertical-align: top;\n",
       "    }\n",
       "\n",
       "    .dataframe thead th {\n",
       "        text-align: right;\n",
       "    }\n",
       "</style>\n",
       "<table border=\"1\" class=\"dataframe\">\n",
       "  <thead>\n",
       "    <tr style=\"text-align: right;\">\n",
       "      <th></th>\n",
       "      <th>Flow ID</th>\n",
       "      <th>Src IP</th>\n",
       "      <th>Src Port</th>\n",
       "      <th>Dst IP</th>\n",
       "      <th>Dst Port</th>\n",
       "      <th>Protocol</th>\n",
       "      <th>Timestamp</th>\n",
       "      <th>Flow Duration</th>\n",
       "      <th>Tot Fwd Pkts</th>\n",
       "      <th>Tot Bwd Pkts</th>\n",
       "      <th>...</th>\n",
       "      <th>Fwd Seg Size Min</th>\n",
       "      <th>Active Mean</th>\n",
       "      <th>Active Std</th>\n",
       "      <th>Active Max</th>\n",
       "      <th>Active Min</th>\n",
       "      <th>Idle Mean</th>\n",
       "      <th>Idle Std</th>\n",
       "      <th>Idle Max</th>\n",
       "      <th>Idle Min</th>\n",
       "      <th>Label</th>\n",
       "    </tr>\n",
       "  </thead>\n",
       "  <tbody>\n",
       "    <tr>\n",
       "      <th>100360</th>\n",
       "      <td>192.168.1.113-82.202.226.189-61944-443-6</td>\n",
       "      <td>82.202.226.189</td>\n",
       "      <td>443</td>\n",
       "      <td>192.168.1.113</td>\n",
       "      <td>61944</td>\n",
       "      <td>6</td>\n",
       "      <td>19/01/1970 03:38:29 AM</td>\n",
       "      <td>1101101</td>\n",
       "      <td>2</td>\n",
       "      <td>1</td>\n",
       "      <td>...</td>\n",
       "      <td>0</td>\n",
       "      <td>0.000000e+00</td>\n",
       "      <td>0.000000</td>\n",
       "      <td>0.0</td>\n",
       "      <td>0.0</td>\n",
       "      <td>0.000000e+00</td>\n",
       "      <td>0.000000e+00</td>\n",
       "      <td>0.0</td>\n",
       "      <td>0.0</td>\n",
       "      <td>1</td>\n",
       "    </tr>\n",
       "    <tr>\n",
       "      <th>121468</th>\n",
       "      <td>10.0.2.15-52.94.220.16-56266-443-6</td>\n",
       "      <td>10.0.2.15</td>\n",
       "      <td>56266</td>\n",
       "      <td>52.94.220.16</td>\n",
       "      <td>443</td>\n",
       "      <td>6</td>\n",
       "      <td>01/01/1970 10:12:03 AM</td>\n",
       "      <td>6984634</td>\n",
       "      <td>8</td>\n",
       "      <td>10</td>\n",
       "      <td>...</td>\n",
       "      <td>0</td>\n",
       "      <td>1.264518e+06</td>\n",
       "      <td>0.000000</td>\n",
       "      <td>1264518.0</td>\n",
       "      <td>1264518.0</td>\n",
       "      <td>5.719560e+06</td>\n",
       "      <td>0.000000e+00</td>\n",
       "      <td>5719560.0</td>\n",
       "      <td>5719560.0</td>\n",
       "      <td>0</td>\n",
       "    </tr>\n",
       "    <tr>\n",
       "      <th>37401</th>\n",
       "      <td>195.216.249.89-10.0.2.15-443-57438-6</td>\n",
       "      <td>10.0.2.15</td>\n",
       "      <td>57438</td>\n",
       "      <td>195.216.249.89</td>\n",
       "      <td>443</td>\n",
       "      <td>6</td>\n",
       "      <td>01/01/1970 09:47:24 AM</td>\n",
       "      <td>119272058</td>\n",
       "      <td>21</td>\n",
       "      <td>28</td>\n",
       "      <td>...</td>\n",
       "      <td>0</td>\n",
       "      <td>3.215226e+05</td>\n",
       "      <td>870723.526291</td>\n",
       "      <td>2974285.0</td>\n",
       "      <td>1346.0</td>\n",
       "      <td>9.617593e+06</td>\n",
       "      <td>1.250030e+06</td>\n",
       "      <td>10090434.0</td>\n",
       "      <td>5699785.0</td>\n",
       "      <td>0</td>\n",
       "    </tr>\n",
       "    <tr>\n",
       "      <th>232565</th>\n",
       "      <td>185.33.220.26-10.0.2.15-443-50794-6</td>\n",
       "      <td>10.0.2.15</td>\n",
       "      <td>50794</td>\n",
       "      <td>185.33.220.26</td>\n",
       "      <td>443</td>\n",
       "      <td>6</td>\n",
       "      <td>01/01/1970 10:43:19 AM</td>\n",
       "      <td>10766858</td>\n",
       "      <td>9</td>\n",
       "      <td>18</td>\n",
       "      <td>...</td>\n",
       "      <td>0</td>\n",
       "      <td>7.762710e+05</td>\n",
       "      <td>0.000000</td>\n",
       "      <td>776271.0</td>\n",
       "      <td>776271.0</td>\n",
       "      <td>9.987692e+06</td>\n",
       "      <td>0.000000e+00</td>\n",
       "      <td>9987692.0</td>\n",
       "      <td>9987692.0</td>\n",
       "      <td>0</td>\n",
       "    </tr>\n",
       "    <tr>\n",
       "      <th>64279</th>\n",
       "      <td>192.168.1.113-92.53.91.20-53883-443-6</td>\n",
       "      <td>192.168.1.113</td>\n",
       "      <td>53883</td>\n",
       "      <td>92.53.91.20</td>\n",
       "      <td>443</td>\n",
       "      <td>6</td>\n",
       "      <td>10/01/1970 05:57:23 AM</td>\n",
       "      <td>1148309</td>\n",
       "      <td>2</td>\n",
       "      <td>4</td>\n",
       "      <td>...</td>\n",
       "      <td>0</td>\n",
       "      <td>0.000000e+00</td>\n",
       "      <td>0.000000</td>\n",
       "      <td>0.0</td>\n",
       "      <td>0.0</td>\n",
       "      <td>0.000000e+00</td>\n",
       "      <td>0.000000e+00</td>\n",
       "      <td>0.0</td>\n",
       "      <td>0.0</td>\n",
       "      <td>1</td>\n",
       "    </tr>\n",
       "  </tbody>\n",
       "</table>\n",
       "<p>5 rows × 84 columns</p>\n",
       "</div>"
      ],
      "text/plain": [
       "                                         Flow ID          Src IP  Src Port   \n",
       "100360  192.168.1.113-82.202.226.189-61944-443-6  82.202.226.189       443  \\\n",
       "121468        10.0.2.15-52.94.220.16-56266-443-6       10.0.2.15     56266   \n",
       "37401       195.216.249.89-10.0.2.15-443-57438-6       10.0.2.15     57438   \n",
       "232565       185.33.220.26-10.0.2.15-443-50794-6       10.0.2.15     50794   \n",
       "64279      192.168.1.113-92.53.91.20-53883-443-6   192.168.1.113     53883   \n",
       "\n",
       "                Dst IP  Dst Port  Protocol               Timestamp   \n",
       "100360   192.168.1.113     61944         6  19/01/1970 03:38:29 AM  \\\n",
       "121468    52.94.220.16       443         6  01/01/1970 10:12:03 AM   \n",
       "37401   195.216.249.89       443         6  01/01/1970 09:47:24 AM   \n",
       "232565   185.33.220.26       443         6  01/01/1970 10:43:19 AM   \n",
       "64279      92.53.91.20       443         6  10/01/1970 05:57:23 AM   \n",
       "\n",
       "        Flow Duration  Tot Fwd Pkts  Tot Bwd Pkts  ...  Fwd Seg Size Min   \n",
       "100360        1101101             2             1  ...                 0  \\\n",
       "121468        6984634             8            10  ...                 0   \n",
       "37401       119272058            21            28  ...                 0   \n",
       "232565       10766858             9            18  ...                 0   \n",
       "64279         1148309             2             4  ...                 0   \n",
       "\n",
       "         Active Mean     Active Std  Active Max  Active Min     Idle Mean   \n",
       "100360  0.000000e+00       0.000000         0.0         0.0  0.000000e+00  \\\n",
       "121468  1.264518e+06       0.000000   1264518.0   1264518.0  5.719560e+06   \n",
       "37401   3.215226e+05  870723.526291   2974285.0      1346.0  9.617593e+06   \n",
       "232565  7.762710e+05       0.000000    776271.0    776271.0  9.987692e+06   \n",
       "64279   0.000000e+00       0.000000         0.0         0.0  0.000000e+00   \n",
       "\n",
       "            Idle Std    Idle Max   Idle Min  Label  \n",
       "100360  0.000000e+00         0.0        0.0      1  \n",
       "121468  0.000000e+00   5719560.0  5719560.0      0  \n",
       "37401   1.250030e+06  10090434.0  5699785.0      0  \n",
       "232565  0.000000e+00   9987692.0  9987692.0      0  \n",
       "64279   0.000000e+00         0.0        0.0      1  \n",
       "\n",
       "[5 rows x 84 columns]"
      ]
     },
     "execution_count": 4,
     "metadata": {},
     "output_type": "execute_result"
    }
   ],
   "source": [
    "normal = pd.read_csv('../../Dataset/MCFP/malware.csv')\n",
    "malware = pd.read_csv('../../Dataset/MCFP/normal.csv')\n",
    "\n",
    "df = pd.concat([malware, normal])\n",
    "df = df.sample(frac=1, replace=False, random_state=27)\n",
    "df.head(5)"
   ]
  },
  {
   "cell_type": "code",
   "execution_count": 5,
   "metadata": {},
   "outputs": [
    {
     "data": {
      "text/plain": [
       "Label\n",
       "0    237835\n",
       "1    116528\n",
       "Name: count, dtype: int64"
      ]
     },
     "execution_count": 5,
     "metadata": {},
     "output_type": "execute_result"
    }
   ],
   "source": [
    "df['Label'].value_counts()"
   ]
  },
  {
   "cell_type": "code",
   "execution_count": 6,
   "metadata": {},
   "outputs": [],
   "source": [
    "df_cp = df.copy()"
   ]
  },
  {
   "cell_type": "code",
   "execution_count": 7,
   "metadata": {},
   "outputs": [
    {
     "name": "stdout",
     "output_type": "stream",
     "text": [
      "dataset shape (354363, 84)\n",
      "zero variance columns ['Protocol', 'Fwd PSH Flags', 'Fwd URG Flags', 'Bwd URG Flags', 'URG Flag Cnt', 'CWE Flag Count', 'ECE Flag Cnt', 'Fwd Byts/b Avg', 'Fwd Pkts/b Avg', 'Fwd Blk Rate Avg', 'Bwd Byts/b Avg', 'Bwd Pkts/b Avg', 'Bwd Blk Rate Avg', 'Init Fwd Win Byts', 'Fwd Seg Size Min'] dropped\n",
      "shape after removing zero variance columns: (354363, 69)\n",
      "122 rows dropped\n",
      "shape after removing nan: (354241, 69)\n",
      "shape after dropping duplicates: (240776, 69)\n",
      "columns which have identical values [('Tot Fwd Pkts', 'Subflow Fwd Pkts'), ('Tot Bwd Pkts', 'Subflow Bwd Pkts'), ('Bwd PSH Flags', 'PSH Flag Cnt')] dropped\n",
      "shape after removing identical value columns: (240776, 66)\n"
     ]
    }
   ],
   "source": [
    "def clean_df(df):\n",
    "    # Remove the space before each feature names\n",
    "    df.columns = df.columns.str.strip()\n",
    "    print('dataset shape', df.shape)\n",
    "\n",
    "    # This set of feature should have >= 0 values\n",
    "    num = df._get_numeric_data()\n",
    "    num[num < 0] = 0\n",
    "\n",
    "    zero_variance_cols = []\n",
    "    for col in df.columns:\n",
    "        if len(df[col].unique()) == 1:\n",
    "            zero_variance_cols.append(col)\n",
    "    df.drop(zero_variance_cols, axis = 1, inplace = True)\n",
    "    print('zero variance columns', zero_variance_cols, 'dropped')\n",
    "    print('shape after removing zero variance columns:', df.shape)\n",
    "\n",
    "    df.replace([np.inf, -np.inf], np.nan, inplace = True)\n",
    "    print(df.isna().any(axis = 1).sum(), 'rows dropped')\n",
    "    df.dropna(inplace = True)\n",
    "    print('shape after removing nan:', df.shape)\n",
    "\n",
    "    # Drop duplicate rows\n",
    "    df.drop_duplicates(inplace = True)\n",
    "    print('shape after dropping duplicates:', df.shape)\n",
    "\n",
    "    column_pairs = [(i, j) for i, j in combinations(df, 2) if df[i].equals(df[j])]\n",
    "    ide_cols = []\n",
    "    for column_pair in column_pairs:\n",
    "        ide_cols.append(column_pair[1])\n",
    "    df.drop(ide_cols, axis = 1, inplace = True)\n",
    "    print('columns which have identical values', column_pairs, 'dropped')\n",
    "    print('shape after removing identical value columns:', df.shape)\n",
    "    return df\n",
    "df_cp = clean_df(df_cp)"
   ]
  },
  {
   "cell_type": "code",
   "execution_count": 9,
   "metadata": {},
   "outputs": [],
   "source": [
    "drop_columns = ['Flow ID', 'Src IP', 'Src Port', 'Dst IP', 'Dst Port', 'Timestamp']\n",
    "df_cp = df_cp.drop(drop_columns, axis=1)"
   ]
  },
  {
   "cell_type": "code",
   "execution_count": 16,
   "metadata": {},
   "outputs": [],
   "source": [
    "df_cp = df_cp.drop(['Init Bwd Win Byts'], axis=1)"
   ]
  },
  {
   "cell_type": "code",
   "execution_count": 10,
   "metadata": {},
   "outputs": [
    {
     "data": {
      "text/plain": [
       "Index(['Flow Duration', 'Tot Fwd Pkts', 'Tot Bwd Pkts', 'TotLen Fwd Pkts',\n",
       "       'TotLen Bwd Pkts', 'Fwd Pkt Len Max', 'Fwd Pkt Len Min',\n",
       "       'Fwd Pkt Len Mean', 'Fwd Pkt Len Std', 'Bwd Pkt Len Max',\n",
       "       'Bwd Pkt Len Min', 'Bwd Pkt Len Mean', 'Bwd Pkt Len Std', 'Flow Byts/s',\n",
       "       'Flow Pkts/s', 'Flow IAT Mean', 'Flow IAT Std', 'Flow IAT Max',\n",
       "       'Flow IAT Min', 'Fwd IAT Tot', 'Fwd IAT Mean', 'Fwd IAT Std',\n",
       "       'Fwd IAT Max', 'Fwd IAT Min', 'Bwd IAT Tot', 'Bwd IAT Mean',\n",
       "       'Bwd IAT Std', 'Bwd IAT Max', 'Bwd IAT Min', 'Bwd PSH Flags',\n",
       "       'Fwd Header Len', 'Bwd Header Len', 'Fwd Pkts/s', 'Bwd Pkts/s',\n",
       "       'Pkt Len Min', 'Pkt Len Max', 'Pkt Len Mean', 'Pkt Len Std',\n",
       "       'Pkt Len Var', 'FIN Flag Cnt', 'SYN Flag Cnt', 'RST Flag Cnt',\n",
       "       'ACK Flag Cnt', 'Down/Up Ratio', 'Pkt Size Avg', 'Fwd Seg Size Avg',\n",
       "       'Bwd Seg Size Avg', 'Subflow Fwd Byts', 'Subflow Bwd Byts',\n",
       "       'Init Bwd Win Byts', 'Fwd Act Data Pkts', 'Active Mean', 'Active Std',\n",
       "       'Active Max', 'Active Min', 'Idle Mean', 'Idle Std', 'Idle Max',\n",
       "       'Idle Min', 'Label'],\n",
       "      dtype='object')"
      ]
     },
     "execution_count": 10,
     "metadata": {},
     "output_type": "execute_result"
    }
   ],
   "source": [
    "df_cp.columns"
   ]
  },
  {
   "cell_type": "code",
   "execution_count": 11,
   "metadata": {},
   "outputs": [
    {
     "data": {
      "text/plain": [
       "(240776, 60)"
      ]
     },
     "execution_count": 11,
     "metadata": {},
     "output_type": "execute_result"
    }
   ],
   "source": [
    "df_cp.shape"
   ]
  },
  {
   "cell_type": "code",
   "execution_count": 7,
   "metadata": {},
   "outputs": [],
   "source": [
    "# df_cp = df_cpz.copy()"
   ]
  },
  {
   "cell_type": "code",
   "execution_count": 17,
   "metadata": {},
   "outputs": [],
   "source": [
    "from sklearn.feature_selection import SelectKBest\n",
    "\n",
    "\n",
    "def select_k_best(score, X, Y, k=20):\n",
    "    selector = SelectKBest(score, k=k)\n",
    "    selector.fit_transform(X, Y)\n",
    "    names = X.columns.values[selector.get_support()]\n",
    "    scores = selector.scores_[selector.get_support()]\n",
    "    names_scores = list(zip(names, scores))\n",
    "    df_reduced = pd.DataFrame(data=names_scores, columns=['feature_names', 'score'])\n",
    "\n",
    "    df_reduced = df_reduced.sort_values(['score', 'feature_names'], ascending=[False, True])\n",
    "    print(df_reduced)\n",
    "    return df_reduced"
   ]
  },
  {
   "cell_type": "code",
   "execution_count": 19,
   "metadata": {},
   "outputs": [
    {
     "name": "stdout",
     "output_type": "stream",
     "text": [
      "        feature_names     score\n",
      "22       Flow IAT Max  0.514097\n",
      "21      Flow Duration  0.510489\n",
      "26        Flow Pkts/s  0.479085\n",
      "23      Flow IAT Mean  0.478589\n",
      "38         Fwd Pkts/s  0.474143\n",
      "16         Bwd Pkts/s  0.472928\n",
      "24       Flow IAT Min  0.419831\n",
      "29        Fwd IAT Max  0.413511\n",
      "33        Fwd IAT Tot  0.412804\n",
      "5      Bwd Header Len  0.398011\n",
      "30       Fwd IAT Mean  0.390519\n",
      "31        Fwd IAT Min  0.386703\n",
      "25       Flow IAT Std  0.363523\n",
      "47        Pkt Len Std  0.307235\n",
      "48        Pkt Len Var  0.306844\n",
      "45       Pkt Len Mean  0.305790\n",
      "49       Pkt Size Avg  0.305517\n",
      "37    Fwd Pkt Len Std  0.300837\n",
      "35   Fwd Pkt Len Mean  0.298744\n",
      "39   Fwd Seg Size Avg  0.298652\n",
      "53   Subflow Fwd Byts  0.296726\n",
      "57    TotLen Fwd Pkts  0.294227\n",
      "6         Bwd IAT Max  0.279532\n",
      "44        Pkt Len Max  0.276974\n",
      "10        Bwd IAT Tot  0.273731\n",
      "12    Bwd Pkt Len Max  0.261420\n",
      "7        Bwd IAT Mean  0.253682\n",
      "20        Flow Byts/s  0.250771\n",
      "40           Idle Max  0.246019\n",
      "41          Idle Mean  0.245559\n",
      "42           Idle Min  0.243729\n",
      "52   Subflow Bwd Byts  0.241073\n",
      "56    TotLen Bwd Pkts  0.240882\n",
      "1          Active Max  0.238747\n",
      "3          Active Min  0.238011\n",
      "34    Fwd Pkt Len Max  0.237080\n",
      "2         Active Mean  0.236409\n",
      "17   Bwd Seg Size Avg  0.233449\n",
      "13   Bwd Pkt Len Mean  0.232375\n",
      "15    Bwd Pkt Len Std  0.230578\n",
      "9         Bwd IAT Std  0.201529\n",
      "28     Fwd Header Len  0.190756\n",
      "8         Bwd IAT Min  0.187169\n",
      "32        Fwd IAT Std  0.177742\n",
      "55       Tot Fwd Pkts  0.169313\n",
      "27  Fwd Act Data Pkts  0.144859\n",
      "54       Tot Bwd Pkts  0.139605\n",
      "18      Down/Up Ratio  0.096184\n",
      "43           Idle Std  0.074799\n",
      "51       SYN Flag Cnt  0.070567\n",
      "4          Active Std  0.069593\n",
      "0        ACK Flag Cnt  0.064097\n",
      "19       FIN Flag Cnt  0.042763\n",
      "11      Bwd PSH Flags  0.011048\n",
      "36    Fwd Pkt Len Min  0.008844\n",
      "50       RST Flag Cnt  0.003746\n",
      "14    Bwd Pkt Len Min  0.002064\n",
      "46        Pkt Len Min  0.000000\n"
     ]
    }
   ],
   "source": [
    "from sklearn.feature_selection import mutual_info_classif, f_classif\n",
    "\n",
    "frs_mi = select_k_best(mutual_info_classif, df_cp[df_cp.columns.difference(['Label'])], df_cp.Label, k = 58)"
   ]
  },
  {
   "cell_type": "code",
   "execution_count": 28,
   "metadata": {},
   "outputs": [
    {
     "data": {
      "text/plain": [
       "22       Flow IAT Max\n",
       "21      Flow Duration\n",
       "26        Flow Pkts/s\n",
       "23      Flow IAT Mean\n",
       "38         Fwd Pkts/s\n",
       "16         Bwd Pkts/s\n",
       "24       Flow IAT Min\n",
       "29        Fwd IAT Max\n",
       "33        Fwd IAT Tot\n",
       "5      Bwd Header Len\n",
       "30       Fwd IAT Mean\n",
       "31        Fwd IAT Min\n",
       "25       Flow IAT Std\n",
       "47        Pkt Len Std\n",
       "48        Pkt Len Var\n",
       "45       Pkt Len Mean\n",
       "49       Pkt Size Avg\n",
       "37    Fwd Pkt Len Std\n",
       "Name: feature_names, dtype: object"
      ]
     },
     "execution_count": 28,
     "metadata": {},
     "output_type": "execute_result"
    }
   ],
   "source": [
    "features = frs_mi[frs_mi.score >= 0.3].feature_names\n",
    "features"
   ]
  },
  {
   "cell_type": "code",
   "execution_count": 10,
   "metadata": {},
   "outputs": [],
   "source": [
    "# X = df_cp.drop(['Label'], axis=1)\n",
    "# y = df_cp.Label\n",
    "features = ['Flow Duration', 'Flow IAT Max', 'Flow Pkts/s', 'Flow IAT Mean', 'Fwd Pkts/s', 'Bwd Pkts/s']\n",
    "X = pd.get_dummies(df_cp[features])\n",
    "# X = df_test.drop(['Label'], axis=1)\n",
    "y = df_cp.Label"
   ]
  },
  {
   "cell_type": "markdown",
   "metadata": {},
   "source": [
    "Test Ml"
   ]
  },
  {
   "cell_type": "code",
   "execution_count": 38,
   "metadata": {},
   "outputs": [],
   "source": [
    "from sklearn.model_selection import train_test_split\n",
    "from sklearn.ensemble import RandomForestClassifier\n",
    "from sklearn.metrics import mean_absolute_error\n",
    "from lightgbm import LGBMClassifier\n",
    "from sklearn.metrics import accuracy_score, precision_score, recall_score, roc_auc_score, f1_score\n",
    "from xgboost import XGBClassifier\n",
    "from sklearn import metrics\n",
    "import xgboost as xgb\n",
    "from sklearn.preprocessing import StandardScaler\n",
    "from sklearn import svm\n",
    "import time"
   ]
  },
  {
   "cell_type": "code",
   "execution_count": 35,
   "metadata": {},
   "outputs": [
    {
     "name": "stdout",
     "output_type": "stream",
     "text": [
      "Test time: 1.3202862739562988\n",
      "0.9912090041947587\n",
      "0.9930441780920353\n",
      "0.9887527903382749\n",
      "0.9908938379246554\n",
      "Test time: 0.9070513248443604\n",
      "0.9974803760054268\n",
      "0.9974811083123426\n",
      "0.9973098277144983\n",
      "0.9973954606600074\n"
     ]
    }
   ],
   "source": [
    "def test_ml(X, y):\n",
    "    scaler = StandardScaler()\n",
    "    X = scaler.fit_transform(X)\n",
    "    X_train, X_test, y_train, y_test = train_test_split(X, y, shuffle = True, stratify = y, random_state = 0, test_size = 0.3)\n",
    "    model = RandomForestClassifier(random_state=27)\n",
    "    model.fit(X_train, y_train)\n",
    "    \n",
    "    tic = time.time()\n",
    "    preds_val = model.predict(X_test)\n",
    "    tac = time.time()\n",
    "    print (\"Test time: \" + str(tac - tic))\n",
    "\n",
    "    classification = metrics.classification_report(y_test, preds_val)\n",
    "    confusion_matrix = metrics.confusion_matrix(y_test, preds_val)\n",
    "    print(accuracy_score(y_test, preds_val))\n",
    "    print(precision_score(y_test, preds_val))\n",
    "    print(recall_score(y_test, preds_val))\n",
    "    print(f1_score(y_test, preds_val))\n",
    "\n",
    "test_ml(pd.get_dummies(df_cp[features]), df_cp.Label)\n",
    "test_ml(df_cp.drop(['Label'], axis=1), df_cp.Label)"
   ]
  },
  {
   "cell_type": "code",
   "execution_count": 36,
   "metadata": {},
   "outputs": [
    {
     "name": "stdout",
     "output_type": "stream",
     "text": [
      "Test time: 0.1848912239074707\n",
      "0.992870294740631\n",
      "0.993718628997562\n",
      "0.9915288191860798\n",
      "0.9926225163665535\n",
      "Test time: 0.1916670799255371\n",
      "0.9978818545540127\n",
      "0.9980244509977954\n",
      "0.9975960162555091\n",
      "0.9978101876368632\n"
     ]
    }
   ],
   "source": [
    "def test_ml2(X, y):\n",
    "    scaler = StandardScaler()\n",
    "    X = scaler.fit_transform(X)\n",
    "    X_train, X_test, y_train, y_test = train_test_split(X, y, shuffle = True, stratify = y, random_state = 0, test_size = 0.3)\n",
    "    model = xgb.XGBClassifier(n_estimators=1000, max_depth=3, gamma=0.1, min_child_weight=5)\n",
    "    model.fit(X_train, y_train)\n",
    "    \n",
    "    tic = time.time()\n",
    "    preds_val = model.predict(X_test)\n",
    "    tac = time.time()\n",
    "    print (\"Test time: \" + str(tac - tic))\n",
    "\n",
    "    classification = metrics.classification_report(y_test, preds_val)\n",
    "    confusion_matrix = metrics.confusion_matrix(y_test, preds_val)\n",
    "    print(accuracy_score(y_test, preds_val))\n",
    "    print(precision_score(y_test, preds_val))\n",
    "    print(recall_score(y_test, preds_val))\n",
    "    print(f1_score(y_test, preds_val))\n",
    "\n",
    "test_ml2(pd.get_dummies(df_cp[features]), df_cp.Label)\n",
    "test_ml2(df_cp.drop(['Label'], axis=1), df_cp.Label)"
   ]
  },
  {
   "cell_type": "code",
   "execution_count": 39,
   "metadata": {},
   "outputs": [
    {
     "name": "stdout",
     "output_type": "stream",
     "text": [
      "Test time: 173.5073480606079\n",
      "0.9615826561267011\n",
      "0.9657968664021547\n",
      "0.9543815465628757\n",
      "0.9600552748628924\n",
      "Test time: 88.47316765785217\n",
      "0.9958744618110835\n",
      "0.996816382722423\n",
      "0.9946482742830977\n",
      "0.9957311482924593\n"
     ]
    }
   ],
   "source": [
    "def test_ml3(X, y):\n",
    "    scaler = StandardScaler()\n",
    "    X = scaler.fit_transform(X)\n",
    "    X_train, X_test, y_train, y_test = train_test_split(X, y, shuffle = True, stratify = y, random_state = 0, test_size = 0.3)\n",
    "    model = svm.SVC(kernel='rbf', C=110, gamma=0.1)\n",
    "    model.fit(X_train, y_train)\n",
    "    \n",
    "    tic = time.time()\n",
    "    preds_val = model.predict(X_test)\n",
    "    tac = time.time()\n",
    "    print (\"Test time: \" + str(tac - tic))\n",
    "\n",
    "    classification = metrics.classification_report(y_test, preds_val)\n",
    "    confusion_matrix = metrics.confusion_matrix(y_test, preds_val)\n",
    "    print(accuracy_score(y_test, preds_val))\n",
    "    print(precision_score(y_test, preds_val))\n",
    "    print(recall_score(y_test, preds_val))\n",
    "    print(f1_score(y_test, preds_val))\n",
    "\n",
    "test_ml3(pd.get_dummies(df_cp[features]), df_cp.Label)\n",
    "test_ml3(df_cp.drop(['Label'], axis=1), df_cp.Label)"
   ]
  }
 ],
 "metadata": {
  "kernelspec": {
   "display_name": "Python 3",
   "language": "python",
   "name": "python3"
  },
  "language_info": {
   "codemirror_mode": {
    "name": "ipython",
    "version": 3
   },
   "file_extension": ".py",
   "mimetype": "text/x-python",
   "name": "python",
   "nbconvert_exporter": "python",
   "pygments_lexer": "ipython3",
   "version": "3.11.3"
  },
  "orig_nbformat": 4
 },
 "nbformat": 4,
 "nbformat_minor": 2
}
