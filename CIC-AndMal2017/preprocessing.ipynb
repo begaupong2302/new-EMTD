{
 "cells": [
  {
   "cell_type": "code",
   "execution_count": 31,
   "metadata": {},
   "outputs": [],
   "source": [
    "import pandas as pd\n",
    "import numpy as np\n",
    "from itertools import combinations, product\n",
    "\n",
    "from sklearn.model_selection import train_test_split\n",
    "from sklearn.ensemble import RandomForestClassifier\n",
    "from sklearn.metrics import mean_absolute_error\n",
    "from lightgbm import LGBMClassifier\n",
    "from sklearn.metrics import accuracy_score, precision_score, recall_score, roc_auc_score, f1_score\n",
    "from xgboost import XGBClassifier\n",
    "from sklearn import metrics\n",
    "import time"
   ]
  },
  {
   "cell_type": "code",
   "execution_count": 2,
   "metadata": {},
   "outputs": [
    {
     "name": "stderr",
     "output_type": "stream",
     "text": [
      "C:\\Users\\admin\\AppData\\Local\\Temp\\ipykernel_15796\\1196048977.py:1: DtypeWarning: Columns (48,56) have mixed types. Specify dtype option on import or set low_memory=False.\n",
      "  df = pd.read_csv('../../Dataset/CIC-AndMal2017/full-2017.csv')\n"
     ]
    }
   ],
   "source": [
    "df = pd.read_csv('../../Dataset/CIC-AndMal2017/full-2017.csv')"
   ]
  },
  {
   "cell_type": "code",
   "execution_count": 3,
   "metadata": {},
   "outputs": [
    {
     "data": {
      "text/plain": [
       "(353886, 86)"
      ]
     },
     "execution_count": 3,
     "metadata": {},
     "output_type": "execute_result"
    }
   ],
   "source": [
    "df.shape"
   ]
  },
  {
   "cell_type": "code",
   "execution_count": 4,
   "metadata": {},
   "outputs": [],
   "source": [
    "df_cp = df.copy()"
   ]
  },
  {
   "cell_type": "code",
   "execution_count": 5,
   "metadata": {},
   "outputs": [
    {
     "name": "stdout",
     "output_type": "stream",
     "text": [
      "dataset shape (353886, 86)\n",
      "zero variance columns [] dropped\n",
      "shape after removing zero variance columns: (353886, 86)\n",
      "3 rows dropped\n",
      "shape after removing nan: (353883, 86)\n",
      "shape after dropping duplicates: (353883, 86)\n",
      "columns which have identical values [('Total Backward Packets', 'Subflow Bwd Packets'), ('Total Length of Fwd Packets', 'Subflow Fwd Bytes'), ('Total Length of Bwd Packets', 'Subflow Bwd Bytes'), ('Fwd PSH Flags', 'SYN Flag Count'), ('Bwd PSH Flags', 'Fwd URG Flags'), ('Bwd PSH Flags', 'Bwd URG Flags'), ('Bwd PSH Flags', 'RST Flag Count'), ('Bwd PSH Flags', 'ECE Flag Count'), ('Bwd PSH Flags', 'Fwd Avg Bytes/Bulk'), ('Bwd PSH Flags', 'Fwd Avg Packets/Bulk'), ('Bwd PSH Flags', 'Fwd Avg Bulk Rate'), ('Bwd PSH Flags', 'Bwd Avg Bytes/Bulk'), ('Bwd PSH Flags', 'Bwd Avg Packets/Bulk'), ('Bwd PSH Flags', 'Bwd Avg Bulk Rate'), ('Fwd URG Flags', 'Bwd URG Flags'), ('Fwd URG Flags', 'RST Flag Count'), ('Fwd URG Flags', 'ECE Flag Count'), ('Fwd URG Flags', 'Fwd Avg Bytes/Bulk'), ('Fwd URG Flags', 'Fwd Avg Packets/Bulk'), ('Fwd URG Flags', 'Fwd Avg Bulk Rate'), ('Fwd URG Flags', 'Bwd Avg Bytes/Bulk'), ('Fwd URG Flags', 'Bwd Avg Packets/Bulk'), ('Fwd URG Flags', 'Bwd Avg Bulk Rate'), ('Bwd URG Flags', 'RST Flag Count'), ('Bwd URG Flags', 'ECE Flag Count'), ('Bwd URG Flags', 'Fwd Avg Bytes/Bulk'), ('Bwd URG Flags', 'Fwd Avg Packets/Bulk'), ('Bwd URG Flags', 'Fwd Avg Bulk Rate'), ('Bwd URG Flags', 'Bwd Avg Bytes/Bulk'), ('Bwd URG Flags', 'Bwd Avg Packets/Bulk'), ('Bwd URG Flags', 'Bwd Avg Bulk Rate'), ('Fwd Header Length', 'Fwd Header Length.1'), ('RST Flag Count', 'ECE Flag Count'), ('RST Flag Count', 'Fwd Avg Bytes/Bulk'), ('RST Flag Count', 'Fwd Avg Packets/Bulk'), ('RST Flag Count', 'Fwd Avg Bulk Rate'), ('RST Flag Count', 'Bwd Avg Bytes/Bulk'), ('RST Flag Count', 'Bwd Avg Packets/Bulk'), ('RST Flag Count', 'Bwd Avg Bulk Rate'), ('ECE Flag Count', 'Fwd Avg Bytes/Bulk'), ('ECE Flag Count', 'Fwd Avg Packets/Bulk'), ('ECE Flag Count', 'Fwd Avg Bulk Rate'), ('ECE Flag Count', 'Bwd Avg Bytes/Bulk'), ('ECE Flag Count', 'Bwd Avg Packets/Bulk'), ('ECE Flag Count', 'Bwd Avg Bulk Rate'), ('Fwd Avg Bytes/Bulk', 'Fwd Avg Packets/Bulk'), ('Fwd Avg Bytes/Bulk', 'Fwd Avg Bulk Rate'), ('Fwd Avg Bytes/Bulk', 'Bwd Avg Bytes/Bulk'), ('Fwd Avg Bytes/Bulk', 'Bwd Avg Packets/Bulk'), ('Fwd Avg Bytes/Bulk', 'Bwd Avg Bulk Rate'), ('Fwd Avg Packets/Bulk', 'Fwd Avg Bulk Rate'), ('Fwd Avg Packets/Bulk', 'Bwd Avg Bytes/Bulk'), ('Fwd Avg Packets/Bulk', 'Bwd Avg Packets/Bulk'), ('Fwd Avg Packets/Bulk', 'Bwd Avg Bulk Rate'), ('Fwd Avg Bulk Rate', 'Bwd Avg Bytes/Bulk'), ('Fwd Avg Bulk Rate', 'Bwd Avg Packets/Bulk'), ('Fwd Avg Bulk Rate', 'Bwd Avg Bulk Rate'), ('Bwd Avg Bytes/Bulk', 'Bwd Avg Packets/Bulk'), ('Bwd Avg Bytes/Bulk', 'Bwd Avg Bulk Rate'), ('Bwd Avg Packets/Bulk', 'Bwd Avg Bulk Rate')] dropped\n",
      "shape after removing identical value columns: (353883, 71)\n"
     ]
    }
   ],
   "source": [
    "def clean_df(df):\n",
    "    # Remove the space before each feature names\n",
    "    df.columns = df.columns.str.strip()\n",
    "    print('dataset shape', df.shape)\n",
    "\n",
    "    # This set of feature should have >= 0 values\n",
    "    num = df._get_numeric_data()\n",
    "    num[num < 0] = 0\n",
    "\n",
    "    zero_variance_cols = []\n",
    "    for col in df.columns:\n",
    "        if len(df[col].unique()) == 1:\n",
    "            zero_variance_cols.append(col)\n",
    "    df.drop(zero_variance_cols, axis = 1, inplace = True)\n",
    "    print('zero variance columns', zero_variance_cols, 'dropped')\n",
    "    print('shape after removing zero variance columns:', df.shape)\n",
    "\n",
    "    df.replace([np.inf, -np.inf], np.nan, inplace = True)\n",
    "    print(df.isna().any(axis = 1).sum(), 'rows dropped')\n",
    "    df.dropna(inplace = True)\n",
    "    print('shape after removing nan:', df.shape)\n",
    "\n",
    "    # Drop duplicate rows\n",
    "    df.drop_duplicates(inplace = True)\n",
    "    print('shape after dropping duplicates:', df.shape)\n",
    "\n",
    "    column_pairs = [(i, j) for i, j in combinations(df, 2) if df[i].equals(df[j])]\n",
    "    ide_cols = []\n",
    "    for column_pair in column_pairs:\n",
    "        ide_cols.append(column_pair[1])\n",
    "    df.drop(ide_cols, axis = 1, inplace = True)\n",
    "    print('columns which have identical values', column_pairs, 'dropped')\n",
    "    print('shape after removing identical value columns:', df.shape)\n",
    "    return df\n",
    "df_cp = clean_df(df_cp)"
   ]
  },
  {
   "cell_type": "code",
   "execution_count": 6,
   "metadata": {},
   "outputs": [],
   "source": [
    "df_cpz = df_cp.copy()"
   ]
  },
  {
   "cell_type": "code",
   "execution_count": 7,
   "metadata": {},
   "outputs": [],
   "source": [
    "# df_cp = df_cpz.copy()"
   ]
  },
  {
   "cell_type": "code",
   "execution_count": 8,
   "metadata": {},
   "outputs": [],
   "source": [
    "df_cp.loc[df_cp.Label != 'BENIGN', 'label'] = 1\n",
    "df_cp.loc[df_cp.Label == 'BENIGN', 'label'] = 0"
   ]
  },
  {
   "cell_type": "code",
   "execution_count": 9,
   "metadata": {},
   "outputs": [],
   "source": [
    "drop_columns = ['Flow ID', 'Source IP', 'Source Port', 'Destination IP', 'Destination Port', 'Timestamp', 'Protocol', 'Label']\n",
    "df_cp = df_cp.drop(drop_columns, axis=1)"
   ]
  },
  {
   "cell_type": "code",
   "execution_count": 10,
   "metadata": {},
   "outputs": [
    {
     "data": {
      "text/plain": [
       "(353883, 64)"
      ]
     },
     "execution_count": 10,
     "metadata": {},
     "output_type": "execute_result"
    }
   ],
   "source": [
    "df_cp.shape"
   ]
  },
  {
   "cell_type": "code",
   "execution_count": 11,
   "metadata": {},
   "outputs": [],
   "source": [
    "df_cp = df_cp.drop(['Unnamed: 0'], axis=1)"
   ]
  },
  {
   "cell_type": "code",
   "execution_count": 12,
   "metadata": {},
   "outputs": [
    {
     "data": {
      "text/plain": [
       "Index(['Flow Duration', 'Total Fwd Packets', 'Total Backward Packets',\n",
       "       'Total Length of Fwd Packets', 'Total Length of Bwd Packets',\n",
       "       'Fwd Packet Length Max', 'Fwd Packet Length Min',\n",
       "       'Fwd Packet Length Mean', 'Fwd Packet Length Std',\n",
       "       'Bwd Packet Length Max', 'Bwd Packet Length Min',\n",
       "       'Bwd Packet Length Mean', 'Bwd Packet Length Std', 'Flow Bytes/s',\n",
       "       'Flow Packets/s', 'Flow IAT Mean', 'Flow IAT Std', 'Flow IAT Max',\n",
       "       'Flow IAT Min', 'Fwd IAT Total', 'Fwd IAT Mean', 'Fwd IAT Std',\n",
       "       'Fwd IAT Max', 'Fwd IAT Min', 'Bwd IAT Total', 'Bwd IAT Mean',\n",
       "       'Bwd IAT Std', 'Bwd IAT Max', 'Bwd IAT Min', 'Fwd PSH Flags',\n",
       "       'Bwd PSH Flags', 'Fwd Header Length', 'Bwd Header Length',\n",
       "       'Fwd Packets/s', 'Bwd Packets/s', 'Min Packet Length',\n",
       "       'Max Packet Length', 'Packet Length Mean', 'Packet Length Std',\n",
       "       'Packet Length Variance', 'FIN Flag Count', 'PSH Flag Count',\n",
       "       'ACK Flag Count', 'URG Flag Count', 'CWE Flag Count', 'Down/Up Ratio',\n",
       "       'Average Packet Size', 'Avg Fwd Segment Size', 'Avg Bwd Segment Size',\n",
       "       'Subflow Fwd Packets', 'Init_Win_bytes_forward',\n",
       "       'Init_Win_bytes_backward', 'act_data_pkt_fwd', 'min_seg_size_forward',\n",
       "       'Active Mean', 'Active Std', 'Active Max', 'Active Min', 'Idle Mean',\n",
       "       'Idle Std', 'Idle Max', 'Idle Min', 'label'],\n",
       "      dtype='object')"
      ]
     },
     "execution_count": 12,
     "metadata": {},
     "output_type": "execute_result"
    }
   ],
   "source": [
    "df_cp.columns"
   ]
  },
  {
   "cell_type": "code",
   "execution_count": 16,
   "metadata": {},
   "outputs": [],
   "source": [
    "from sklearn.feature_selection import SelectKBest\n",
    "\n",
    "\n",
    "def select_k_best(score, X, Y):\n",
    "    selector = SelectKBest(score, k=62)\n",
    "    selector.fit_transform(X, Y)\n",
    "    names = X.columns.values[selector.get_support()]\n",
    "    scores = selector.scores_[selector.get_support()]\n",
    "    names_scores = list(zip(names, scores))\n",
    "    df_reduced = pd.DataFrame(data=names_scores, columns=['feature_names', 'score'])\n",
    "\n",
    "    df_reduced = df_reduced.sort_values(['score', 'feature_names'], ascending=[False, True])\n",
    "    print(df_reduced)\n",
    "    return df_reduced"
   ]
  },
  {
   "cell_type": "code",
   "execution_count": 17,
   "metadata": {},
   "outputs": [
    {
     "name": "stdout",
     "output_type": "stream",
     "text": [
      "             feature_names     score\n",
      "47  Init_Win_bytes_forward  0.029856\n",
      "0           ACK Flag Count  0.029792\n",
      "21           Down/Up Ratio  0.018975\n",
      "50          PSH Flag Count  0.018382\n",
      "51      Packet Length Mean  0.015404\n",
      "..                     ...       ...\n",
      "14           Bwd PSH Flags  0.000000\n",
      "20          CWE Flag Count  0.000000\n",
      "36           Fwd PSH Flags  0.000000\n",
      "45                Idle Std  0.000000\n",
      "61    min_seg_size_forward  0.000000\n",
      "\n",
      "[62 rows x 2 columns]\n"
     ]
    }
   ],
   "source": [
    "from sklearn.feature_selection import mutual_info_classif, f_classif\n",
    "\n",
    "frs_mi = select_k_best(mutual_info_classif, df_cp[df_cp.columns.difference(['label'])], df_cp.label)"
   ]
  },
  {
   "cell_type": "code",
   "execution_count": 20,
   "metadata": {},
   "outputs": [
    {
     "data": {
      "text/plain": [
       "47         Init_Win_bytes_forward\n",
       "0                  ACK Flag Count\n",
       "21                  Down/Up Ratio\n",
       "50                 PSH Flag Count\n",
       "51             Packet Length Mean\n",
       "16         Bwd Packet Length Mean\n",
       "5             Average Packet Size\n",
       "6            Avg Bwd Segment Size\n",
       "52              Packet Length Std\n",
       "18          Bwd Packet Length Std\n",
       "53         Packet Length Variance\n",
       "40          Fwd Packet Length Std\n",
       "38         Fwd Packet Length Mean\n",
       "57    Total Length of Bwd Packets\n",
       "58    Total Length of Fwd Packets\n",
       "7            Avg Fwd Segment Size\n",
       "46        Init_Win_bytes_backward\n",
       "37          Fwd Packet Length Max\n",
       "48              Max Packet Length\n",
       "Name: feature_names, dtype: object"
      ]
     },
     "execution_count": 20,
     "metadata": {},
     "output_type": "execute_result"
    }
   ],
   "source": [
    "features = frs_mi[frs_mi.score >= 0.01].feature_names\n",
    "features"
   ]
  },
  {
   "cell_type": "code",
   "execution_count": 23,
   "metadata": {},
   "outputs": [],
   "source": [
    "X = df_cp[features]\n",
    "# X = df_test.drop(['Label'], axis=1)\n",
    "y = df_cp.label"
   ]
  },
  {
   "cell_type": "markdown",
   "metadata": {},
   "source": [
    "Scaler"
   ]
  },
  {
   "cell_type": "code",
   "execution_count": 25,
   "metadata": {},
   "outputs": [],
   "source": [
    "from sklearn.preprocessing import StandardScaler\n",
    "\n",
    "scaler = StandardScaler()\n",
    "X = scaler.fit_transform(X)"
   ]
  },
  {
   "cell_type": "code",
   "execution_count": 35,
   "metadata": {},
   "outputs": [],
   "source": [
    "def test_ml(X, y):\n",
    "    scaler = StandardScaler()\n",
    "    X = scaler.fit_transform(X)\n",
    "    X_train, X_test, y_train, y_test = train_test_split(X, y, shuffle = True, stratify = y, random_state = 0, test_size = 0.2)\n",
    "    model = RandomForestClassifier(random_state=27)\n",
    "    model.fit(X_train, y_train)\n",
    "    \n",
    "    tic = time.time()\n",
    "    preds_val = model.predict(X_test)\n",
    "    tac = time.time()\n",
    "    print (\"Test time: \" + str(tac - tic))\n",
    "\n",
    "    classification = metrics.classification_report(y_test, preds_val)\n",
    "    confusion_matrix = metrics.confusion_matrix(y_test, preds_val)\n",
    "    print(accuracy_score(y_test, preds_val))\n",
    "    print(precision_score(y_test, preds_val))\n",
    "    print(recall_score(y_test, preds_val))\n",
    "    print(f1_score(y_test, preds_val))"
   ]
  },
  {
   "cell_type": "code",
   "execution_count": 36,
   "metadata": {},
   "outputs": [
    {
     "name": "stdout",
     "output_type": "stream",
     "text": [
      "Test time: 4.242176532745361\n",
      "0.7927565581877266\n",
      "0.8130060067902847\n",
      "0.9598453583795835\n",
      "0.8803445762951521\n",
      "Test time: 5.9601545333862305\n",
      "0.7788065746715019\n",
      "0.8130808418669274\n",
      "0.9368981547364926\n",
      "0.8706092380254452\n"
     ]
    }
   ],
   "source": [
    "test_ml(df_cp[features], df_cp.label)\n",
    "test_ml(df_cp.drop(['label'], axis=1), df_cp.label)"
   ]
  }
 ],
 "metadata": {
  "kernelspec": {
   "display_name": "Python 3",
   "language": "python",
   "name": "python3"
  },
  "language_info": {
   "codemirror_mode": {
    "name": "ipython",
    "version": 3
   },
   "file_extension": ".py",
   "mimetype": "text/x-python",
   "name": "python",
   "nbconvert_exporter": "python",
   "pygments_lexer": "ipython3",
   "version": "3.11.3"
  },
  "orig_nbformat": 4
 },
 "nbformat": 4,
 "nbformat_minor": 2
}
