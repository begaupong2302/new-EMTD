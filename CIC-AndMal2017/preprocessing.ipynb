{
 "cells": [
  {
   "cell_type": "code",
   "execution_count": 1,
   "metadata": {},
   "outputs": [],
   "source": [
    "import pandas as pd\n",
    "import numpy as np\n",
    "from itertools import combinations, product"
   ]
  },
  {
   "cell_type": "code",
   "execution_count": 2,
   "metadata": {},
   "outputs": [
    {
     "name": "stderr",
     "output_type": "stream",
     "text": [
      "C:\\Users\\admin\\AppData\\Local\\Temp\\ipykernel_18632\\3766361288.py:1: DtypeWarning: Columns (25,47,55,57,62) have mixed types. Specify dtype option on import or set low_memory=False.\n",
      "  df = pd.read_csv('../../abc/full_dts.csv')\n"
     ]
    }
   ],
   "source": [
    "df = pd.read_csv('../../abc/full_dts.csv')"
   ]
  },
  {
   "cell_type": "code",
   "execution_count": 3,
   "metadata": {},
   "outputs": [
    {
     "data": {
      "text/plain": [
       "(2616579, 85)"
      ]
     },
     "execution_count": 3,
     "metadata": {},
     "output_type": "execute_result"
    }
   ],
   "source": [
    "df.shape"
   ]
  },
  {
   "cell_type": "code",
   "execution_count": 4,
   "metadata": {},
   "outputs": [
    {
     "data": {
      "text/plain": [
       " Label\n",
       "BENIGN                       1210210\n",
       "ADWARE_GOOLIGAN                93772\n",
       "ADWARE_FEIWO                   56632\n",
       "SCAREWARE_ANDROIDDEFENDER      56440\n",
       "RANSOMWARE_SVPENG              54161\n",
       "RANSOMWARE_PORNDROID           46082\n",
       "SCAREWARE_FAKEAPPAL            44563\n",
       "RANSOMWARE_KOLER               44555\n",
       "SMSMALWARE_NANDROBOX           44517\n",
       "ADWARE_EWIND                   43374\n",
       "SCAREWARE_AVFORANDROID         42448\n",
       "SCAREWARE_AVPASS               40776\n",
       "SCAREWARE_FAKEAV               40089\n",
       "RANSOMWARE_RANSOMBO            39859\n",
       "SMSMALWARE_PLANKTON            39765\n",
       "ADWARE_DOWGIN                  39682\n",
       "RANSOMWARE_CHARGER             39551\n",
       "ADWARE_SHUANET                 39271\n",
       "ADWARE_KEMOGE                  38771\n",
       "RANSOMWARE_SIMPLOCKER          36340\n",
       "ADWARE_YOUMI                   36035\n",
       "SCAREWARE_FAKEAPP              34676\n",
       "SMSMALWARE_BIIGE               33678\n",
       "SMSMALWARE_SMSSNIFFER          33618\n",
       "SCAREWARE_FAKETAOBAO           33299\n",
       "RANSOMWARE_WANNALOCKER         32701\n",
       "ADWARE_KOODOUS                 32547\n",
       "ADWARE_MOBIDASH                31034\n",
       "SCAREWARE_FAKEJOBOFFER         30683\n",
       "RANSOMWARE_JISUT               25672\n",
       "SCAREWARE_ANDROIDSPY           25414\n",
       "RANSOMWARE_LOCKERPIN           25307\n",
       "SCAREWARE_VIRUSSHIELD          23716\n",
       "SMSMALWARE_FAKENOTIFY          22197\n",
       "SCAREWARE_PENETHO              21631\n",
       "SMSMALWARE_FAKEINST            15026\n",
       "ADWARE_SELFMITE                13029\n",
       "SMSMALWARE_BEANBOT             12371\n",
       "SMSMALWARE_ZSONE                9644\n",
       "SCAREWARE                       7430\n",
       "SMSMALWARE_FAKEMART             6401\n",
       "SMSMALWARE_MAZARBOT             6065\n",
       "SMSMALWARE_JIFAKE               5993\n",
       "RANSOMWARE_PLETOR               4715\n",
       "MALWARE                         2828\n",
       "Name: count, dtype: int64"
      ]
     },
     "execution_count": 4,
     "metadata": {},
     "output_type": "execute_result"
    }
   ],
   "source": [
    "df[' Label'].value_counts()"
   ]
  },
  {
   "cell_type": "code",
   "execution_count": 5,
   "metadata": {},
   "outputs": [],
   "source": [
    "df_cp = df.copy()"
   ]
  },
  {
   "cell_type": "code",
   "execution_count": 6,
   "metadata": {},
   "outputs": [
    {
     "name": "stdout",
     "output_type": "stream",
     "text": [
      "dataset shape (2616579, 85)\n",
      "zero variance columns [] dropped\n",
      "shape after removing zero variance columns: (2616579, 85)\n",
      "13 rows dropped\n",
      "shape after removing nan: (2616566, 85)\n",
      "shape after dropping duplicates: (2616566, 85)\n",
      "columns which have identical values [('Total Fwd Packets', 'Subflow Fwd Packets'), ('Total Backward Packets', 'Subflow Bwd Packets'), ('Total Length of Fwd Packets', 'Subflow Fwd Bytes'), ('Total Length of Bwd Packets', 'Subflow Bwd Bytes'), ('Fwd PSH Flags', 'SYN Flag Count'), ('Bwd PSH Flags', 'Fwd URG Flags'), ('Bwd PSH Flags', 'Bwd URG Flags'), ('Bwd PSH Flags', 'RST Flag Count'), ('Bwd PSH Flags', 'ECE Flag Count'), ('Bwd PSH Flags', 'Fwd Avg Packets/Bulk'), ('Bwd PSH Flags', 'Fwd Avg Bulk Rate'), ('Bwd PSH Flags', 'Bwd Avg Bytes/Bulk'), ('Bwd PSH Flags', 'Bwd Avg Packets/Bulk'), ('Bwd PSH Flags', 'Bwd Avg Bulk Rate'), ('Fwd URG Flags', 'Bwd URG Flags'), ('Fwd URG Flags', 'RST Flag Count'), ('Fwd URG Flags', 'ECE Flag Count'), ('Fwd URG Flags', 'Fwd Avg Packets/Bulk'), ('Fwd URG Flags', 'Fwd Avg Bulk Rate'), ('Fwd URG Flags', 'Bwd Avg Bytes/Bulk'), ('Fwd URG Flags', 'Bwd Avg Packets/Bulk'), ('Fwd URG Flags', 'Bwd Avg Bulk Rate'), ('Bwd URG Flags', 'RST Flag Count'), ('Bwd URG Flags', 'ECE Flag Count'), ('Bwd URG Flags', 'Fwd Avg Packets/Bulk'), ('Bwd URG Flags', 'Fwd Avg Bulk Rate'), ('Bwd URG Flags', 'Bwd Avg Bytes/Bulk'), ('Bwd URG Flags', 'Bwd Avg Packets/Bulk'), ('Bwd URG Flags', 'Bwd Avg Bulk Rate'), ('Fwd Header Length', 'Fwd Header Length.1'), ('RST Flag Count', 'ECE Flag Count'), ('RST Flag Count', 'Fwd Avg Packets/Bulk'), ('RST Flag Count', 'Fwd Avg Bulk Rate'), ('RST Flag Count', 'Bwd Avg Bytes/Bulk'), ('RST Flag Count', 'Bwd Avg Packets/Bulk'), ('RST Flag Count', 'Bwd Avg Bulk Rate'), ('ECE Flag Count', 'Fwd Avg Packets/Bulk'), ('ECE Flag Count', 'Fwd Avg Bulk Rate'), ('ECE Flag Count', 'Bwd Avg Bytes/Bulk'), ('ECE Flag Count', 'Bwd Avg Packets/Bulk'), ('ECE Flag Count', 'Bwd Avg Bulk Rate'), ('Fwd Avg Packets/Bulk', 'Fwd Avg Bulk Rate'), ('Fwd Avg Packets/Bulk', 'Bwd Avg Bytes/Bulk'), ('Fwd Avg Packets/Bulk', 'Bwd Avg Packets/Bulk'), ('Fwd Avg Packets/Bulk', 'Bwd Avg Bulk Rate'), ('Fwd Avg Bulk Rate', 'Bwd Avg Bytes/Bulk'), ('Fwd Avg Bulk Rate', 'Bwd Avg Packets/Bulk'), ('Fwd Avg Bulk Rate', 'Bwd Avg Bulk Rate'), ('Bwd Avg Bytes/Bulk', 'Bwd Avg Packets/Bulk'), ('Bwd Avg Bytes/Bulk', 'Bwd Avg Bulk Rate'), ('Bwd Avg Packets/Bulk', 'Bwd Avg Bulk Rate')] dropped\n",
      "shape after removing identical value columns: (2616566, 70)\n"
     ]
    }
   ],
   "source": [
    "def clean_df(df):\n",
    "    # Remove the space before each feature names\n",
    "    df.columns = df.columns.str.strip()\n",
    "    print('dataset shape', df.shape)\n",
    "\n",
    "    # This set of feature should have >= 0 values\n",
    "    num = df._get_numeric_data()\n",
    "    num[num < 0] = 0\n",
    "\n",
    "    zero_variance_cols = []\n",
    "    for col in df.columns:\n",
    "        if len(df[col].unique()) == 1:\n",
    "            zero_variance_cols.append(col)\n",
    "    df.drop(zero_variance_cols, axis = 1, inplace = True)\n",
    "    print('zero variance columns', zero_variance_cols, 'dropped')\n",
    "    print('shape after removing zero variance columns:', df.shape)\n",
    "\n",
    "    df.replace([np.inf, -np.inf], np.nan, inplace = True)\n",
    "    print(df.isna().any(axis = 1).sum(), 'rows dropped')\n",
    "    df.dropna(inplace = True)\n",
    "    print('shape after removing nan:', df.shape)\n",
    "\n",
    "    # Drop duplicate rows\n",
    "    df.drop_duplicates(inplace = True)\n",
    "    print('shape after dropping duplicates:', df.shape)\n",
    "\n",
    "    column_pairs = [(i, j) for i, j in combinations(df, 2) if df[i].equals(df[j])]\n",
    "    ide_cols = []\n",
    "    for column_pair in column_pairs:\n",
    "        ide_cols.append(column_pair[1])\n",
    "    df.drop(ide_cols, axis = 1, inplace = True)\n",
    "    print('columns which have identical values', column_pairs, 'dropped')\n",
    "    print('shape after removing identical value columns:', df.shape)\n",
    "    return df\n",
    "df_cp = clean_df(df_cp)"
   ]
  },
  {
   "cell_type": "code",
   "execution_count": 7,
   "metadata": {},
   "outputs": [],
   "source": [
    "df_cpz = df_cp.copy()"
   ]
  },
  {
   "cell_type": "code",
   "execution_count": 8,
   "metadata": {},
   "outputs": [],
   "source": [
    "df_cp = df_cp.loc[(df_cp['Source Port'] == 443) | (df_cp['Destination Port'] == 443)]"
   ]
  },
  {
   "cell_type": "code",
   "execution_count": 9,
   "metadata": {},
   "outputs": [],
   "source": [
    "# df_cp = df_cpz.copy()"
   ]
  },
  {
   "cell_type": "code",
   "execution_count": 10,
   "metadata": {},
   "outputs": [],
   "source": [
    "df_cp.loc[df_cp.Label != 'BENIGN', 'label'] = 1\n",
    "df_cp.loc[df_cp.Label == 'BENIGN', 'label'] = 0"
   ]
  },
  {
   "cell_type": "code",
   "execution_count": 11,
   "metadata": {},
   "outputs": [],
   "source": [
    "drop_columns = ['Flow ID', 'Source IP', 'Source Port', 'Destination IP', 'Destination Port', 'Timestamp', 'Protocol', 'Label']\n",
    "df_cp = df_cp.drop(drop_columns, axis=1)"
   ]
  },
  {
   "cell_type": "code",
   "execution_count": 12,
   "metadata": {},
   "outputs": [
    {
     "data": {
      "text/plain": [
       "(1224657, 63)"
      ]
     },
     "execution_count": 12,
     "metadata": {},
     "output_type": "execute_result"
    }
   ],
   "source": [
    "df_cp.shape"
   ]
  },
  {
   "cell_type": "code",
   "execution_count": 13,
   "metadata": {},
   "outputs": [],
   "source": [
    "for i in df_cp.columns:\n",
    "    df_cp[i] = df_cp[i].astype('float')"
   ]
  },
  {
   "cell_type": "code",
   "execution_count": 14,
   "metadata": {},
   "outputs": [
    {
     "data": {
      "text/plain": [
       "label\n",
       "1.0    642487\n",
       "0.0    582170\n",
       "Name: count, dtype: int64"
      ]
     },
     "execution_count": 14,
     "metadata": {},
     "output_type": "execute_result"
    }
   ],
   "source": [
    "df_cp['label'].value_counts()"
   ]
  },
  {
   "cell_type": "code",
   "execution_count": 15,
   "metadata": {},
   "outputs": [
    {
     "data": {
      "text/plain": [
       "Index(['Flow Duration', 'Total Fwd Packets', 'Total Backward Packets',\n",
       "       'Total Length of Fwd Packets', 'Total Length of Bwd Packets',\n",
       "       'Fwd Packet Length Max', 'Fwd Packet Length Min',\n",
       "       'Fwd Packet Length Mean', 'Fwd Packet Length Std',\n",
       "       'Bwd Packet Length Max', 'Bwd Packet Length Min',\n",
       "       'Bwd Packet Length Mean', 'Bwd Packet Length Std', 'Flow Bytes/s',\n",
       "       'Flow Packets/s', 'Flow IAT Mean', 'Flow IAT Std', 'Flow IAT Max',\n",
       "       'Flow IAT Min', 'Fwd IAT Total', 'Fwd IAT Mean', 'Fwd IAT Std',\n",
       "       'Fwd IAT Max', 'Fwd IAT Min', 'Bwd IAT Total', 'Bwd IAT Mean',\n",
       "       'Bwd IAT Std', 'Bwd IAT Max', 'Bwd IAT Min', 'Fwd PSH Flags',\n",
       "       'Bwd PSH Flags', 'Fwd Header Length', 'Bwd Header Length',\n",
       "       'Fwd Packets/s', 'Bwd Packets/s', 'Min Packet Length',\n",
       "       'Max Packet Length', 'Packet Length Mean', 'Packet Length Std',\n",
       "       'Packet Length Variance', 'FIN Flag Count', 'PSH Flag Count',\n",
       "       'ACK Flag Count', 'URG Flag Count', 'CWE Flag Count', 'Down/Up Ratio',\n",
       "       'Average Packet Size', 'Avg Fwd Segment Size', 'Avg Bwd Segment Size',\n",
       "       'Fwd Avg Bytes/Bulk', 'Init_Win_bytes_forward',\n",
       "       'Init_Win_bytes_backward', 'act_data_pkt_fwd', 'min_seg_size_forward',\n",
       "       'Active Mean', 'Active Std', 'Active Max', 'Active Min', 'Idle Mean',\n",
       "       'Idle Std', 'Idle Max', 'Idle Min', 'label'],\n",
       "      dtype='object')"
      ]
     },
     "execution_count": 15,
     "metadata": {},
     "output_type": "execute_result"
    }
   ],
   "source": [
    "df_cp.columns"
   ]
  },
  {
   "cell_type": "code",
   "execution_count": 16,
   "metadata": {},
   "outputs": [
    {
     "data": {
      "text/plain": [
       "(543610, 63)"
      ]
     },
     "execution_count": 16,
     "metadata": {},
     "output_type": "execute_result"
    }
   ],
   "source": [
    "df_cp.loc[(df_cp['Total Length of Fwd Packets'] == 0) & (df_cp['Total Length of Bwd Packets'] == 0)].shape"
   ]
  },
  {
   "cell_type": "code",
   "execution_count": 18,
   "metadata": {},
   "outputs": [
    {
     "data": {
      "text/plain": [
       "(1224657, 63)"
      ]
     },
     "execution_count": 18,
     "metadata": {},
     "output_type": "execute_result"
    }
   ],
   "source": [
    "df_cp.shape"
   ]
  },
  {
   "cell_type": "code",
   "execution_count": 37,
   "metadata": {},
   "outputs": [],
   "source": [
    "from sklearn.feature_selection import SelectKBest\n",
    "\n",
    "\n",
    "def select_k_best(score, X, Y):\n",
    "    selector = SelectKBest(score, k=20)\n",
    "    selector.fit_transform(X, Y)\n",
    "    names = X.columns.values[selector.get_support()]\n",
    "    scores = selector.scores_[selector.get_support()]\n",
    "    names_scores = list(zip(names, scores))\n",
    "    df_reduced = pd.DataFrame(data=names_scores, columns=['feature_names', 'score'])\n",
    "\n",
    "    df_reduced = df_reduced.sort_values(['score', 'feature_names'], ascending=[False, True])\n",
    "    print(df_reduced)\n",
    "    return df_reduced.feature_names"
   ]
  },
  {
   "cell_type": "code",
   "execution_count": null,
   "metadata": {},
   "outputs": [],
   "source": [
    "from sklearn.feature_selection import mutual_info_classif, f_classif\n",
    "\n",
    "frs_mi = select_k_best(mutual_info_classif, df_cp[df_cp.columns.difference(['Label'])], df_cp.Label)"
   ]
  },
  {
   "cell_type": "code",
   "execution_count": null,
   "metadata": {},
   "outputs": [],
   "source": [
    "frs_anova = select_k_best(f_classif, df_cp[df_cp.columns.difference(['Label'])], df_cp.Label)"
   ]
  },
  {
   "cell_type": "code",
   "execution_count": 10,
   "metadata": {},
   "outputs": [
    {
     "data": {
      "text/plain": [
       "Label                     1.000000\n",
       "Fwd IAT Total             0.033909\n",
       "Init_Win_bytes_forward    0.029300\n",
       "Fwd IAT Max               0.028861\n",
       "PSH Flag Count            0.025404\n",
       "                            ...   \n",
       "ACK Flag Count           -0.040995\n",
       "URG Flag Count           -0.043195\n",
       "Bwd PSH Flags                  NaN\n",
       "CWE Flag Count                 NaN\n",
       "Fwd Avg Bytes/Bulk             NaN\n",
       "Name: Label, Length: 63, dtype: float64"
      ]
     },
     "execution_count": 10,
     "metadata": {},
     "output_type": "execute_result"
    }
   ],
   "source": [
    "correlation =df_cp.corr()\n",
    "correlation['Label'].sort_values(ascending = False)"
   ]
  },
  {
   "cell_type": "code",
   "execution_count": 11,
   "metadata": {},
   "outputs": [],
   "source": [
    "drop_columns = ['Bwd PSH Flags', 'CWE Flag Count', 'Fwd Avg Bytes/Bulk']\n",
    "df_cp = df_cp.drop(drop_columns, axis=1)"
   ]
  },
  {
   "cell_type": "code",
   "execution_count": 17,
   "metadata": {},
   "outputs": [
    {
     "data": {
      "text/plain": [
       "Index(['Label', 'Fwd IAT Total', 'Init_Win_bytes_forward', 'Fwd IAT Max',\n",
       "       'PSH Flag Count', 'Fwd IAT Std', 'Flow Duration', 'Min Packet Length',\n",
       "       'Active Mean', 'Active Max', 'Active Min'],\n",
       "      dtype='object')"
      ]
     },
     "execution_count": 17,
     "metadata": {},
     "output_type": "execute_result"
    }
   ],
   "source": [
    "corrlabel = correlation['Label'].sort_values(ascending = False)\n",
    "features = corrlabel[corrlabel >= 0.02].index\n",
    "features"
   ]
  },
  {
   "cell_type": "code",
   "execution_count": 17,
   "metadata": {},
   "outputs": [
    {
     "data": {
      "text/plain": [
       "Index(['Flow Duration', 'Total Fwd Packets', 'Total Backward Packets',\n",
       "       'Total Length of Fwd Packets', 'Total Length of Bwd Packets',\n",
       "       'Fwd Packet Length Max', 'Fwd Packet Length Min',\n",
       "       'Fwd Packet Length Mean', 'Fwd Packet Length Std',\n",
       "       'Bwd Packet Length Max', 'Bwd Packet Length Min',\n",
       "       'Bwd Packet Length Mean', 'Bwd Packet Length Std', 'Flow Bytes/s',\n",
       "       'Flow Packets/s', 'Flow IAT Mean', 'Flow IAT Std', 'Flow IAT Max',\n",
       "       'Flow IAT Min', 'Fwd IAT Total', 'Fwd IAT Mean', 'Fwd IAT Std',\n",
       "       'Fwd IAT Max', 'Fwd IAT Min', 'Bwd IAT Total', 'Bwd IAT Mean',\n",
       "       'Bwd IAT Std', 'Bwd IAT Max', 'Bwd IAT Min', 'Fwd PSH Flags',\n",
       "       'Bwd PSH Flags', 'Fwd Header Length', 'Bwd Header Length',\n",
       "       'Fwd Packets/s', 'Bwd Packets/s', 'Min Packet Length',\n",
       "       'Max Packet Length', 'Packet Length Mean', 'Packet Length Std',\n",
       "       'Packet Length Variance', 'FIN Flag Count', 'PSH Flag Count',\n",
       "       'ACK Flag Count', 'URG Flag Count', 'CWE Flag Count', 'Down/Up Ratio',\n",
       "       'Average Packet Size', 'Avg Fwd Segment Size', 'Avg Bwd Segment Size',\n",
       "       'Fwd Avg Bytes/Bulk', 'Init_Win_bytes_forward',\n",
       "       'Init_Win_bytes_backward', 'act_data_pkt_fwd', 'min_seg_size_forward',\n",
       "       'Active Mean', 'Active Std', 'Active Max', 'Active Min', 'Idle Mean',\n",
       "       'Idle Std', 'Idle Max', 'Idle Min', 'label'],\n",
       "      dtype='object')"
      ]
     },
     "execution_count": 17,
     "metadata": {},
     "output_type": "execute_result"
    }
   ],
   "source": [
    "df_cp.columns"
   ]
  },
  {
   "cell_type": "code",
   "execution_count": 18,
   "metadata": {},
   "outputs": [],
   "source": [
    "features = ['Flow Duration', 'Flow IAT Max', 'Flow Packets/s', 'Flow IAT Mean', 'Fwd Packets/s', 'Bwd Packets/s']"
   ]
  },
  {
   "cell_type": "code",
   "execution_count": 20,
   "metadata": {},
   "outputs": [],
   "source": [
    "features = ['Flow Duration', 'Flow IAT Max', 'Flow Packets/s', 'Flow IAT Mean', 'Fwd Packets/s', 'Bwd Packets/s']\n",
    "X = pd.get_dummies(df_cp[features])\n",
    "# X = df_test.drop(['Label'], axis=1)\n",
    "y = df_cp.label"
   ]
  },
  {
   "cell_type": "code",
   "execution_count": 27,
   "metadata": {},
   "outputs": [],
   "source": [
    "ftpos = []\n",
    "for ft in X.columns:\n",
    "    if X.loc[X[ft] < 0].size > 0:\n",
    "        ftpos.append(ft)\n",
    "        print(ft)\n",
    "        print(X.loc[X[ft] < 0].shape[0])"
   ]
  },
  {
   "cell_type": "code",
   "execution_count": 22,
   "metadata": {},
   "outputs": [
    {
     "data": {
      "text/plain": [
       "(1224657, 6)"
      ]
     },
     "execution_count": 22,
     "metadata": {},
     "output_type": "execute_result"
    }
   ],
   "source": [
    "X.shape"
   ]
  },
  {
   "cell_type": "markdown",
   "metadata": {},
   "source": [
    "Scaler"
   ]
  },
  {
   "cell_type": "code",
   "execution_count": 23,
   "metadata": {},
   "outputs": [],
   "source": [
    "from sklearn.preprocessing import StandardScaler\n",
    "\n",
    "scaler = StandardScaler()\n",
    "X = scaler.fit_transform(X)"
   ]
  },
  {
   "cell_type": "markdown",
   "metadata": {},
   "source": [
    "Test Ml"
   ]
  },
  {
   "cell_type": "code",
   "execution_count": 24,
   "metadata": {},
   "outputs": [],
   "source": [
    "from sklearn.model_selection import train_test_split\n",
    "\n",
    "X_train, X_test, y_train, y_test = train_test_split(X, y, shuffle = True, stratify = y, random_state = 0, test_size = 0.1)"
   ]
  },
  {
   "cell_type": "code",
   "execution_count": 25,
   "metadata": {},
   "outputs": [
    {
     "data": {
      "text/html": [
       "<style>#sk-container-id-1 {color: black;background-color: white;}#sk-container-id-1 pre{padding: 0;}#sk-container-id-1 div.sk-toggleable {background-color: white;}#sk-container-id-1 label.sk-toggleable__label {cursor: pointer;display: block;width: 100%;margin-bottom: 0;padding: 0.3em;box-sizing: border-box;text-align: center;}#sk-container-id-1 label.sk-toggleable__label-arrow:before {content: \"▸\";float: left;margin-right: 0.25em;color: #696969;}#sk-container-id-1 label.sk-toggleable__label-arrow:hover:before {color: black;}#sk-container-id-1 div.sk-estimator:hover label.sk-toggleable__label-arrow:before {color: black;}#sk-container-id-1 div.sk-toggleable__content {max-height: 0;max-width: 0;overflow: hidden;text-align: left;background-color: #f0f8ff;}#sk-container-id-1 div.sk-toggleable__content pre {margin: 0.2em;color: black;border-radius: 0.25em;background-color: #f0f8ff;}#sk-container-id-1 input.sk-toggleable__control:checked~div.sk-toggleable__content {max-height: 200px;max-width: 100%;overflow: auto;}#sk-container-id-1 input.sk-toggleable__control:checked~label.sk-toggleable__label-arrow:before {content: \"▾\";}#sk-container-id-1 div.sk-estimator input.sk-toggleable__control:checked~label.sk-toggleable__label {background-color: #d4ebff;}#sk-container-id-1 div.sk-label input.sk-toggleable__control:checked~label.sk-toggleable__label {background-color: #d4ebff;}#sk-container-id-1 input.sk-hidden--visually {border: 0;clip: rect(1px 1px 1px 1px);clip: rect(1px, 1px, 1px, 1px);height: 1px;margin: -1px;overflow: hidden;padding: 0;position: absolute;width: 1px;}#sk-container-id-1 div.sk-estimator {font-family: monospace;background-color: #f0f8ff;border: 1px dotted black;border-radius: 0.25em;box-sizing: border-box;margin-bottom: 0.5em;}#sk-container-id-1 div.sk-estimator:hover {background-color: #d4ebff;}#sk-container-id-1 div.sk-parallel-item::after {content: \"\";width: 100%;border-bottom: 1px solid gray;flex-grow: 1;}#sk-container-id-1 div.sk-label:hover label.sk-toggleable__label {background-color: #d4ebff;}#sk-container-id-1 div.sk-serial::before {content: \"\";position: absolute;border-left: 1px solid gray;box-sizing: border-box;top: 0;bottom: 0;left: 50%;z-index: 0;}#sk-container-id-1 div.sk-serial {display: flex;flex-direction: column;align-items: center;background-color: white;padding-right: 0.2em;padding-left: 0.2em;position: relative;}#sk-container-id-1 div.sk-item {position: relative;z-index: 1;}#sk-container-id-1 div.sk-parallel {display: flex;align-items: stretch;justify-content: center;background-color: white;position: relative;}#sk-container-id-1 div.sk-item::before, #sk-container-id-1 div.sk-parallel-item::before {content: \"\";position: absolute;border-left: 1px solid gray;box-sizing: border-box;top: 0;bottom: 0;left: 50%;z-index: -1;}#sk-container-id-1 div.sk-parallel-item {display: flex;flex-direction: column;z-index: 1;position: relative;background-color: white;}#sk-container-id-1 div.sk-parallel-item:first-child::after {align-self: flex-end;width: 50%;}#sk-container-id-1 div.sk-parallel-item:last-child::after {align-self: flex-start;width: 50%;}#sk-container-id-1 div.sk-parallel-item:only-child::after {width: 0;}#sk-container-id-1 div.sk-dashed-wrapped {border: 1px dashed gray;margin: 0 0.4em 0.5em 0.4em;box-sizing: border-box;padding-bottom: 0.4em;background-color: white;}#sk-container-id-1 div.sk-label label {font-family: monospace;font-weight: bold;display: inline-block;line-height: 1.2em;}#sk-container-id-1 div.sk-label-container {text-align: center;}#sk-container-id-1 div.sk-container {/* jupyter's `normalize.less` sets `[hidden] { display: none; }` but bootstrap.min.css set `[hidden] { display: none !important; }` so we also need the `!important` here to be able to override the default hidden behavior on the sphinx rendered scikit-learn.org. See: https://github.com/scikit-learn/scikit-learn/issues/21755 */display: inline-block !important;position: relative;}#sk-container-id-1 div.sk-text-repr-fallback {display: none;}</style><div id=\"sk-container-id-1\" class=\"sk-top-container\"><div class=\"sk-text-repr-fallback\"><pre>RandomForestClassifier(random_state=27)</pre><b>In a Jupyter environment, please rerun this cell to show the HTML representation or trust the notebook. <br />On GitHub, the HTML representation is unable to render, please try loading this page with nbviewer.org.</b></div><div class=\"sk-container\" hidden><div class=\"sk-item\"><div class=\"sk-estimator sk-toggleable\"><input class=\"sk-toggleable__control sk-hidden--visually\" id=\"sk-estimator-id-1\" type=\"checkbox\" checked><label for=\"sk-estimator-id-1\" class=\"sk-toggleable__label sk-toggleable__label-arrow\">RandomForestClassifier</label><div class=\"sk-toggleable__content\"><pre>RandomForestClassifier(random_state=27)</pre></div></div></div></div></div>"
      ],
      "text/plain": [
       "RandomForestClassifier(random_state=27)"
      ]
     },
     "execution_count": 25,
     "metadata": {},
     "output_type": "execute_result"
    }
   ],
   "source": [
    "from sklearn.ensemble import RandomForestClassifier\n",
    "from sklearn.metrics import mean_absolute_error\n",
    "from lightgbm import LGBMClassifier\n",
    "from sklearn.metrics import accuracy_score, precision_score, recall_score, roc_auc_score\n",
    "from xgboost import XGBClassifier\n",
    "\n",
    "\n",
    "model = RandomForestClassifier(random_state=27)\n",
    "model.fit(X_train, y_train)"
   ]
  },
  {
   "cell_type": "code",
   "execution_count": 26,
   "metadata": {},
   "outputs": [],
   "source": [
    "from sklearn import metrics\n",
    "\n",
    "preds_val = model.predict(X_train)\n",
    "classification = metrics.classification_report(y_train, preds_val)\n",
    "confusion_matrix = metrics.confusion_matrix(y_train, preds_val)"
   ]
  },
  {
   "cell_type": "code",
   "execution_count": 27,
   "metadata": {},
   "outputs": [
    {
     "name": "stdout",
     "output_type": "stream",
     "text": [
      "0.8856151066375973\n",
      "Confusion matrix:\n",
      " [[440982  82971]\n",
      " [ 43103 535135]]\n",
      "Classification report:\n",
      "               precision    recall  f1-score   support\n",
      "\n",
      "         0.0       0.91      0.84      0.87    523953\n",
      "         1.0       0.87      0.93      0.89    578238\n",
      "\n",
      "    accuracy                           0.89   1102191\n",
      "   macro avg       0.89      0.88      0.88   1102191\n",
      "weighted avg       0.89      0.89      0.89   1102191\n",
      "\n"
     ]
    }
   ],
   "source": [
    "print(accuracy_score(y_train, preds_val))\n",
    "print(\"Confusion matrix:\" \"\\n\", confusion_matrix)\n",
    "print(\"Classification report:\" \"\\n\", classification) "
   ]
  },
  {
   "cell_type": "code",
   "execution_count": 28,
   "metadata": {},
   "outputs": [],
   "source": [
    "from sklearn import metrics\n",
    "\n",
    "preds_val = model.predict(X_test)\n",
    "classification = metrics.classification_report(y_test, preds_val)\n",
    "confusion_matrix = metrics.confusion_matrix(y_test, preds_val)"
   ]
  },
  {
   "cell_type": "code",
   "execution_count": 29,
   "metadata": {},
   "outputs": [
    {
     "name": "stdout",
     "output_type": "stream",
     "text": [
      "0.6278069015073572\n",
      "Confusion matrix:\n",
      " [[31697 26520]\n",
      " [19061 45188]]\n",
      "Classification report:\n",
      "               precision    recall  f1-score   support\n",
      "\n",
      "         0.0       0.62      0.54      0.58     58217\n",
      "         1.0       0.63      0.70      0.66     64249\n",
      "\n",
      "    accuracy                           0.63    122466\n",
      "   macro avg       0.63      0.62      0.62    122466\n",
      "weighted avg       0.63      0.63      0.63    122466\n",
      "\n"
     ]
    }
   ],
   "source": [
    "print(accuracy_score(y_test, preds_val))\n",
    "print(\"Confusion matrix:\" \"\\n\", confusion_matrix)\n",
    "print(\"Classification report:\" \"\\n\", classification) "
   ]
  }
 ],
 "metadata": {
  "kernelspec": {
   "display_name": "Python 3",
   "language": "python",
   "name": "python3"
  },
  "language_info": {
   "codemirror_mode": {
    "name": "ipython",
    "version": 3
   },
   "file_extension": ".py",
   "mimetype": "text/x-python",
   "name": "python",
   "nbconvert_exporter": "python",
   "pygments_lexer": "ipython3",
   "version": "3.11.3"
  },
  "orig_nbformat": 4
 },
 "nbformat": 4,
 "nbformat_minor": 2
}
